{
 "cells": [
  {
   "cell_type": "markdown",
   "metadata": {},
   "source": [
    "ELDEN RING WEAPONS STATS EDA\n",
    "\n",
    "INTRODUCTION:\n",
    "Elden Ring is a brand new product of FromSoftware with the guidance of Hidetaka Miyazaki and George Marin, the author of the famous fantasy series \"A Song of Fire and Ice.\" As following the series of Soul-style, Elden Ring is an action game with an exciting open-world adventure. It has passed 12 million sales in just the first three weeks and has become one of the best games on many review pages.\n",
    "\n",
    "THE GOAL:\n",
    "There are around 300 weapons we can get in the game. With the database, we aim to analyze the Attack,Guard, and Scaling attributes."
   ]
  },
  {
   "cell_type": "markdown",
   "metadata": {},
   "source": [
    "Let's setup:"
   ]
  },
  {
   "cell_type": "code",
   "execution_count": 2,
   "metadata": {},
   "outputs": [],
   "source": [
    "# Library import\n",
    "import pandas as pd\n",
    "import numpy as np\n",
    "import matplotlib.pyplot as plt\n",
    "import seaborn as sns\n",
    "\n",
    "from IPython.display import display\n",
    "\n",
    "import warnings\n",
    "warnings.filterwarnings('ignore')\n"
   ]
  },
  {
   "cell_type": "code",
   "execution_count": 3,
   "metadata": {},
   "outputs": [],
   "source": [
    "# Setup figure\n",
    "sns.set_style('whitegrid')\n",
    "clmap = 'flare'"
   ]
  },
  {
   "cell_type": "code",
   "execution_count": null,
   "metadata": {},
   "outputs": [],
   "source": [
    "# Functions:\n"
   ]
  },
  {
   "cell_type": "code",
   "execution_count": 4,
   "metadata": {},
   "outputs": [],
   "source": [
    "# Import data\n",
    "df = pd.read_csv('elden_ring_weapon.csv')"
   ]
  },
  {
   "cell_type": "code",
   "execution_count": 39,
   "metadata": {},
   "outputs": [],
   "source": [
    "def lst_unique(list1,srt = False):\n",
    "    list_set = set(list1)\n",
    "    unique_list = (list(list_set))\n",
    "    if srt:\n",
    "        unique_list.sort()\n",
    "    return unique_list\n",
    "def Convert(lst):\n",
    "    res_dct = {lst[i]: lst[i + 1] for i in range(0, len(lst), 2)}\n",
    "    return res_dct"
   ]
  },
  {
   "cell_type": "code",
   "execution_count": 42,
   "metadata": {},
   "outputs": [],
   "source": [
    "def infoOut(data,details=False,vunique=False,srt=False):\n",
    "    dfInfo = data.columns.to_frame(name='Column')\n",
    "    dfInfo['Non-Null Count'] = data.notna().sum()\n",
    "    dfInfo['Dtype'] = data.dtypes\n",
    "    dfInfo.reset_index(drop=True,inplace=True)\n",
    "    if vunique:\n",
    "        dfInfo['Unique'] = np.nan\n",
    "        for i in range(0,len(data.columns)):\n",
    "            Va_unique = lst_unique(data.T.values[i],srt)\n",
    "            Va_listToStr = ' '.join([str(elem) for elem in Va_unique])\n",
    "            dfInfo.iloc[i,3] = Va_listToStr\n",
    "    if details:\n",
    "        rangeIndex = (dfInfo['Non-Null Count'].min(),dfInfo['Non-Null Count'].min())\n",
    "        totalColumns = dfInfo['Column'].count()\n",
    "        dtypesCount = dfInfo['Dtype'].value_counts()\n",
    "        totalMemory = dfInfo.memory_usage().sum()\n",
    "        return dfInfo, rangeIndex, totalColumns, dtypesCount, totalMemory\n",
    "    else:\n",
    "        return dfInfo"
   ]
  },
  {
   "cell_type": "markdown",
   "metadata": {},
   "source": [
    "First look:"
   ]
  },
  {
   "cell_type": "code",
   "execution_count": 44,
   "metadata": {},
   "outputs": [
    {
     "name": "stdout",
     "output_type": "stream",
     "text": [
      "Data: ----------------------------------------------------------------\n",
      "\n"
     ]
    },
    {
     "data": {
      "text/html": [
       "<div>\n",
       "<style scoped>\n",
       "    .dataframe tbody tr th:only-of-type {\n",
       "        vertical-align: middle;\n",
       "    }\n",
       "\n",
       "    .dataframe tbody tr th {\n",
       "        vertical-align: top;\n",
       "    }\n",
       "\n",
       "    .dataframe thead th {\n",
       "        text-align: right;\n",
       "    }\n",
       "</style>\n",
       "<table border=\"1\" class=\"dataframe\">\n",
       "  <thead>\n",
       "    <tr style=\"text-align: right;\">\n",
       "      <th></th>\n",
       "      <th>Name</th>\n",
       "      <th>Type</th>\n",
       "      <th>Phy</th>\n",
       "      <th>Mag</th>\n",
       "      <th>Fir</th>\n",
       "      <th>Lit</th>\n",
       "      <th>Hol</th>\n",
       "      <th>Cri</th>\n",
       "      <th>Sta</th>\n",
       "      <th>Str</th>\n",
       "      <th>...</th>\n",
       "      <th>Any</th>\n",
       "      <th>Phy_Guard</th>\n",
       "      <th>Mag_Guard</th>\n",
       "      <th>Fir_Guard</th>\n",
       "      <th>Lit_Guard</th>\n",
       "      <th>Hol_Guard</th>\n",
       "      <th>Bst</th>\n",
       "      <th>Rst</th>\n",
       "      <th>Wgt</th>\n",
       "      <th>Upgrade</th>\n",
       "    </tr>\n",
       "  </thead>\n",
       "  <tbody>\n",
       "    <tr>\n",
       "      <th>0</th>\n",
       "      <td>Academy Glintstone Staff</td>\n",
       "      <td>Glintstone Staff</td>\n",
       "      <td>43</td>\n",
       "      <td>-</td>\n",
       "      <td>-</td>\n",
       "      <td>-</td>\n",
       "      <td>-</td>\n",
       "      <td>100</td>\n",
       "      <td>40</td>\n",
       "      <td>D</td>\n",
       "      <td>...</td>\n",
       "      <td>-</td>\n",
       "      <td>25</td>\n",
       "      <td>15</td>\n",
       "      <td>15</td>\n",
       "      <td>15</td>\n",
       "      <td>15</td>\n",
       "      <td>15</td>\n",
       "      <td>10</td>\n",
       "      <td>3.0</td>\n",
       "      <td>Smithing Stones</td>\n",
       "    </tr>\n",
       "    <tr>\n",
       "      <th>1</th>\n",
       "      <td>Alabaster Lord's Sword</td>\n",
       "      <td>Greatsword</td>\n",
       "      <td>313</td>\n",
       "      <td>93</td>\n",
       "      <td>-</td>\n",
       "      <td>-</td>\n",
       "      <td>-</td>\n",
       "      <td>100</td>\n",
       "      <td>126</td>\n",
       "      <td>B</td>\n",
       "      <td>...</td>\n",
       "      <td>-</td>\n",
       "      <td>56</td>\n",
       "      <td>33</td>\n",
       "      <td>27</td>\n",
       "      <td>27</td>\n",
       "      <td>27</td>\n",
       "      <td>39</td>\n",
       "      <td>19</td>\n",
       "      <td>8.0</td>\n",
       "      <td>Somber Smithing Stones</td>\n",
       "    </tr>\n",
       "    <tr>\n",
       "      <th>2</th>\n",
       "      <td>Albinauric Bow</td>\n",
       "      <td>Bow</td>\n",
       "      <td>200</td>\n",
       "      <td>-</td>\n",
       "      <td>-</td>\n",
       "      <td>-</td>\n",
       "      <td>-</td>\n",
       "      <td>100</td>\n",
       "      <td>60</td>\n",
       "      <td>E</td>\n",
       "      <td>...</td>\n",
       "      <td>-</td>\n",
       "      <td>-</td>\n",
       "      <td>-</td>\n",
       "      <td>-</td>\n",
       "      <td>-</td>\n",
       "      <td>-</td>\n",
       "      <td>-</td>\n",
       "      <td>-</td>\n",
       "      <td>4.5</td>\n",
       "      <td>Smithing Stones</td>\n",
       "    </tr>\n",
       "    <tr>\n",
       "      <th>3</th>\n",
       "      <td>Albinauric Staff</td>\n",
       "      <td>Glintstone Staff</td>\n",
       "      <td>29</td>\n",
       "      <td>-</td>\n",
       "      <td>-</td>\n",
       "      <td>-</td>\n",
       "      <td>-</td>\n",
       "      <td>100</td>\n",
       "      <td>38</td>\n",
       "      <td>D</td>\n",
       "      <td>...</td>\n",
       "      <td>-</td>\n",
       "      <td>23</td>\n",
       "      <td>14</td>\n",
       "      <td>14</td>\n",
       "      <td>14</td>\n",
       "      <td>14</td>\n",
       "      <td>14</td>\n",
       "      <td>9</td>\n",
       "      <td>2.5</td>\n",
       "      <td>Smithing Stones</td>\n",
       "    </tr>\n",
       "    <tr>\n",
       "      <th>4</th>\n",
       "      <td>Antspur Rapier</td>\n",
       "      <td>Thrusting Sword</td>\n",
       "      <td>240</td>\n",
       "      <td>-</td>\n",
       "      <td>-</td>\n",
       "      <td>-</td>\n",
       "      <td>-</td>\n",
       "      <td>100</td>\n",
       "      <td>62</td>\n",
       "      <td>D</td>\n",
       "      <td>...</td>\n",
       "      <td>(55)</td>\n",
       "      <td>47</td>\n",
       "      <td>31</td>\n",
       "      <td>31</td>\n",
       "      <td>31</td>\n",
       "      <td>31</td>\n",
       "      <td>25</td>\n",
       "      <td>10</td>\n",
       "      <td>3.0</td>\n",
       "      <td>Smithing Stones</td>\n",
       "    </tr>\n",
       "  </tbody>\n",
       "</table>\n",
       "<p>5 rows × 24 columns</p>\n",
       "</div>"
      ],
      "text/plain": [
       "                       Name              Type  Phy Mag Fir Lit Hol  Cri  Sta  \\\n",
       "0  Academy Glintstone Staff  Glintstone Staff   43   -   -   -   -  100   40   \n",
       "1    Alabaster Lord's Sword        Greatsword  313  93   -   -   -  100  126   \n",
       "2            Albinauric Bow               Bow  200   -   -   -   -  100   60   \n",
       "3          Albinauric Staff  Glintstone Staff   29   -   -   -   -  100   38   \n",
       "4            Antspur Rapier   Thrusting Sword  240   -   -   -   -  100   62   \n",
       "\n",
       "  Str  ...   Any Phy_Guard Mag_Guard Fir_Guard Lit_Guard Hol_Guard Bst Rst  \\\n",
       "0   D  ...     -        25        15        15        15        15  15  10   \n",
       "1   B  ...     -        56        33        27        27        27  39  19   \n",
       "2   E  ...     -         -         -         -         -         -   -   -   \n",
       "3   D  ...     -        23        14        14        14        14  14   9   \n",
       "4   D  ...  (55)        47        31        31        31        31  25  10   \n",
       "\n",
       "   Wgt                 Upgrade  \n",
       "0  3.0         Smithing Stones  \n",
       "1  8.0  Somber Smithing Stones  \n",
       "2  4.5         Smithing Stones  \n",
       "3  2.5         Smithing Stones  \n",
       "4  3.0         Smithing Stones  \n",
       "\n",
       "[5 rows x 24 columns]"
      ]
     },
     "metadata": {},
     "output_type": "display_data"
    },
    {
     "name": "stdout",
     "output_type": "stream",
     "text": [
      "Index: ----------------------------------------------------------------\n",
      "\n"
     ]
    },
    {
     "data": {
      "text/plain": [
       "Index(['Name', 'Type', 'Phy', 'Mag', 'Fir', 'Lit', 'Hol', 'Cri', 'Sta', 'Str',\n",
       "       'Dex', 'Int', 'Fai', 'Arc', 'Any', 'Phy_Guard', 'Mag_Guard',\n",
       "       'Fir_Guard', 'Lit_Guard', 'Hol_Guard', 'Bst', 'Rst', 'Wgt', 'Upgrade'],\n",
       "      dtype='object')"
      ]
     },
     "metadata": {},
     "output_type": "display_data"
    },
    {
     "name": "stdout",
     "output_type": "stream",
     "text": [
      "Data Info: ----------------------------------------------------------------\n",
      "\n"
     ]
    },
    {
     "data": {
      "text/html": [
       "<div>\n",
       "<style scoped>\n",
       "    .dataframe tbody tr th:only-of-type {\n",
       "        vertical-align: middle;\n",
       "    }\n",
       "\n",
       "    .dataframe tbody tr th {\n",
       "        vertical-align: top;\n",
       "    }\n",
       "\n",
       "    .dataframe thead th {\n",
       "        text-align: right;\n",
       "    }\n",
       "</style>\n",
       "<table border=\"1\" class=\"dataframe\">\n",
       "  <thead>\n",
       "    <tr style=\"text-align: right;\">\n",
       "      <th></th>\n",
       "      <th>Column</th>\n",
       "      <th>Non-Null Count</th>\n",
       "      <th>Dtype</th>\n",
       "      <th>Unique</th>\n",
       "    </tr>\n",
       "  </thead>\n",
       "  <tbody>\n",
       "    <tr>\n",
       "      <th>0</th>\n",
       "      <td>Name</td>\n",
       "      <td>307</td>\n",
       "      <td>object</td>\n",
       "      <td>Academy Glintstone Staff Alabaster Lord's Swor...</td>\n",
       "    </tr>\n",
       "    <tr>\n",
       "      <th>1</th>\n",
       "      <td>Type</td>\n",
       "      <td>307</td>\n",
       "      <td>object</td>\n",
       "      <td>Axe Ballista Bow Claw Colossal Sword Colossal ...</td>\n",
       "    </tr>\n",
       "    <tr>\n",
       "      <th>2</th>\n",
       "      <td>Phy</td>\n",
       "      <td>307</td>\n",
       "      <td>object</td>\n",
       "      <td>- 102 112 122 124 132 137 139 142 146 147 149 ...</td>\n",
       "    </tr>\n",
       "    <tr>\n",
       "      <th>3</th>\n",
       "      <td>Mag</td>\n",
       "      <td>307</td>\n",
       "      <td>object</td>\n",
       "      <td>- 129 137 139 147 149 156 161 166 173 175 176 ...</td>\n",
       "    </tr>\n",
       "    <tr>\n",
       "      <th>4</th>\n",
       "      <td>Fir</td>\n",
       "      <td>307</td>\n",
       "      <td>object</td>\n",
       "      <td>- 110 129 137 139 151 161 169 176 181 186 188 ...</td>\n",
       "    </tr>\n",
       "    <tr>\n",
       "      <th>5</th>\n",
       "      <td>Lit</td>\n",
       "      <td>307</td>\n",
       "      <td>object</td>\n",
       "      <td>- 129 144 154 191</td>\n",
       "    </tr>\n",
       "    <tr>\n",
       "      <th>6</th>\n",
       "      <td>Hol</td>\n",
       "      <td>307</td>\n",
       "      <td>object</td>\n",
       "      <td>- 105 122 151 159 161 166 169 178 183 186 188 ...</td>\n",
       "    </tr>\n",
       "    <tr>\n",
       "      <th>7</th>\n",
       "      <td>Cri</td>\n",
       "      <td>307</td>\n",
       "      <td>int64</td>\n",
       "      <td>100 110 115 124 130 140</td>\n",
       "    </tr>\n",
       "    <tr>\n",
       "      <th>8</th>\n",
       "      <td>Sta</td>\n",
       "      <td>307</td>\n",
       "      <td>int64</td>\n",
       "      <td>38 40 42 46 56 60 62 64 66 68 72 76 78 80 82 8...</td>\n",
       "    </tr>\n",
       "    <tr>\n",
       "      <th>9</th>\n",
       "      <td>Str</td>\n",
       "      <td>307</td>\n",
       "      <td>object</td>\n",
       "      <td>- A B C D E S</td>\n",
       "    </tr>\n",
       "    <tr>\n",
       "      <th>10</th>\n",
       "      <td>Dex</td>\n",
       "      <td>307</td>\n",
       "      <td>object</td>\n",
       "      <td>- B C D E</td>\n",
       "    </tr>\n",
       "    <tr>\n",
       "      <th>11</th>\n",
       "      <td>Int</td>\n",
       "      <td>307</td>\n",
       "      <td>object</td>\n",
       "      <td>- A B C D E S</td>\n",
       "    </tr>\n",
       "    <tr>\n",
       "      <th>12</th>\n",
       "      <td>Fai</td>\n",
       "      <td>307</td>\n",
       "      <td>object</td>\n",
       "      <td>- A B C D S</td>\n",
       "    </tr>\n",
       "    <tr>\n",
       "      <th>13</th>\n",
       "      <td>Arc</td>\n",
       "      <td>307</td>\n",
       "      <td>object</td>\n",
       "      <td>- B C D S</td>\n",
       "    </tr>\n",
       "    <tr>\n",
       "      <th>14</th>\n",
       "      <td>Any</td>\n",
       "      <td>307</td>\n",
       "      <td>object</td>\n",
       "      <td>(38) (45) (50) (55) (60) (65) (66) (70) (72) (...</td>\n",
       "    </tr>\n",
       "    <tr>\n",
       "      <th>15</th>\n",
       "      <td>Phy_Guard</td>\n",
       "      <td>307</td>\n",
       "      <td>object</td>\n",
       "      <td>- 13 21 23 24 25 26 27 28 30 31 32 33 35 36 37...</td>\n",
       "    </tr>\n",
       "    <tr>\n",
       "      <th>16</th>\n",
       "      <td>Mag_Guard</td>\n",
       "      <td>307</td>\n",
       "      <td>object</td>\n",
       "      <td>- 10 12 14 15 16 17 18 19 20 21 22 23 24 25 26...</td>\n",
       "    </tr>\n",
       "    <tr>\n",
       "      <th>17</th>\n",
       "      <td>Fir_Guard</td>\n",
       "      <td>307</td>\n",
       "      <td>object</td>\n",
       "      <td>- 13 14 15 16 17 18 19 20 21 22 23 24 25 26 27...</td>\n",
       "    </tr>\n",
       "    <tr>\n",
       "      <th>18</th>\n",
       "      <td>Lit_Guard</td>\n",
       "      <td>307</td>\n",
       "      <td>object</td>\n",
       "      <td>- 10 12 13 14 15 16 17 18 19 20 21 22 23 24 25...</td>\n",
       "    </tr>\n",
       "    <tr>\n",
       "      <th>19</th>\n",
       "      <td>Hol_Guard</td>\n",
       "      <td>307</td>\n",
       "      <td>object</td>\n",
       "      <td>- 10 12 13 14 15 16 17 18 19 20 21 22 23 24 25...</td>\n",
       "    </tr>\n",
       "    <tr>\n",
       "      <th>20</th>\n",
       "      <td>Bst</td>\n",
       "      <td>307</td>\n",
       "      <td>object</td>\n",
       "      <td>- 14 15 16 17 18 19 20 21 22 23 24 25 26 27 28...</td>\n",
       "    </tr>\n",
       "    <tr>\n",
       "      <th>21</th>\n",
       "      <td>Rst</td>\n",
       "      <td>307</td>\n",
       "      <td>object</td>\n",
       "      <td>- 10 11 12 13 14 15 16 17 18 19 20 21 22 23 24...</td>\n",
       "    </tr>\n",
       "    <tr>\n",
       "      <th>22</th>\n",
       "      <td>Wgt</td>\n",
       "      <td>307</td>\n",
       "      <td>float64</td>\n",
       "      <td>0.0 1.5 2.0 2.5 3.0 3.5 4.0 4.5 5.0 5.5 6.0 6....</td>\n",
       "    </tr>\n",
       "    <tr>\n",
       "      <th>23</th>\n",
       "      <td>Upgrade</td>\n",
       "      <td>307</td>\n",
       "      <td>object</td>\n",
       "      <td>Smithing Stones Somber Smithing Stones</td>\n",
       "    </tr>\n",
       "  </tbody>\n",
       "</table>\n",
       "</div>"
      ],
      "text/plain": [
       "       Column  Non-Null Count    Dtype  \\\n",
       "0        Name             307   object   \n",
       "1        Type             307   object   \n",
       "2         Phy             307   object   \n",
       "3         Mag             307   object   \n",
       "4         Fir             307   object   \n",
       "5         Lit             307   object   \n",
       "6         Hol             307   object   \n",
       "7         Cri             307    int64   \n",
       "8         Sta             307    int64   \n",
       "9         Str             307   object   \n",
       "10        Dex             307   object   \n",
       "11        Int             307   object   \n",
       "12        Fai             307   object   \n",
       "13        Arc             307   object   \n",
       "14        Any             307   object   \n",
       "15  Phy_Guard             307   object   \n",
       "16  Mag_Guard             307   object   \n",
       "17  Fir_Guard             307   object   \n",
       "18  Lit_Guard             307   object   \n",
       "19  Hol_Guard             307   object   \n",
       "20        Bst             307   object   \n",
       "21        Rst             307   object   \n",
       "22        Wgt             307  float64   \n",
       "23    Upgrade             307   object   \n",
       "\n",
       "                                               Unique  \n",
       "0   Academy Glintstone Staff Alabaster Lord's Swor...  \n",
       "1   Axe Ballista Bow Claw Colossal Sword Colossal ...  \n",
       "2   - 102 112 122 124 132 137 139 142 146 147 149 ...  \n",
       "3   - 129 137 139 147 149 156 161 166 173 175 176 ...  \n",
       "4   - 110 129 137 139 151 161 169 176 181 186 188 ...  \n",
       "5                                   - 129 144 154 191  \n",
       "6   - 105 122 151 159 161 166 169 178 183 186 188 ...  \n",
       "7                             100 110 115 124 130 140  \n",
       "8   38 40 42 46 56 60 62 64 66 68 72 76 78 80 82 8...  \n",
       "9                                       - A B C D E S  \n",
       "10                                          - B C D E  \n",
       "11                                      - A B C D E S  \n",
       "12                                        - A B C D S  \n",
       "13                                          - B C D S  \n",
       "14  (38) (45) (50) (55) (60) (65) (66) (70) (72) (...  \n",
       "15  - 13 21 23 24 25 26 27 28 30 31 32 33 35 36 37...  \n",
       "16  - 10 12 14 15 16 17 18 19 20 21 22 23 24 25 26...  \n",
       "17  - 13 14 15 16 17 18 19 20 21 22 23 24 25 26 27...  \n",
       "18  - 10 12 13 14 15 16 17 18 19 20 21 22 23 24 25...  \n",
       "19  - 10 12 13 14 15 16 17 18 19 20 21 22 23 24 25...  \n",
       "20  - 14 15 16 17 18 19 20 21 22 23 24 25 26 27 28...  \n",
       "21  - 10 11 12 13 14 15 16 17 18 19 20 21 22 23 24...  \n",
       "22  0.0 1.5 2.0 2.5 3.0 3.5 4.0 4.5 5.0 5.5 6.0 6....  \n",
       "23             Smithing Stones Somber Smithing Stones  "
      ]
     },
     "metadata": {},
     "output_type": "display_data"
    },
    {
     "name": "stdout",
     "output_type": "stream",
     "text": [
      "Data Unique: ----------------------------------------------------------------\n",
      "\n"
     ]
    },
    {
     "data": {
      "text/plain": [
       "'Name:[\\'Academy Glintstone Staff\\' \"Alabaster Lord\\'s Sword\" \\'Albinauric Bow\\'\\n \\'Albinauric Staff\\' \\'Antspur Rapier\\' \\'Arbalest\\' \"Astrologer\\'s Staff\"\\n \\'Axe of Godfrey\\' \\'Axe of Godrick\\' \"Azur\\'s Glintstone Staff\"\\n \"Bandit\\'s Curved Sword\" \"Banished Knight\\'s Greatsword\"\\n \"Banished Knight\\'s Halberd\" \\'Bastard Sword\\' \"Bastard\\'s Stars\"\\n \\'Battle Axe\\' \\'Battle Hammer\\' \\'Beast-Repellent Torch\\'\\n \\'Beastclaw Greathammer\\' \"Beastman\\'s Cleaver\" \"Beastman\\'s Curved Sword\"\\n \\'Black Bow\\' \\'Black Knife\\' \\'Blade of Calling\\' \\'Blasphemous Blade\\'\\n \\'Bloodhound Claws\\' \"Bloodhound\\'s Fang\" \\'Bloodstained Dagger\\'\\n \\'Bloody Helice\\' \\'Bolt of Gransax\\' \\'Brick Hammer\\' \\'Broadsword\\'\\n \\'Butchering Knife\\' \\'Caestus\\' \\'Cane Sword\\' \\'Carian Glintblade Staff\\'\\n \\'Carian Glintstone Staff\\' \"Carian Knight\\'s Sword\" \\'Carian Regal Scepter\\'\\n \"Celebrant\\'s Cleaver\" \"Celebrant\\'s Rib-Rake\" \"Celebrant\\'s Sickle\"\\n \"Celebrant\\'s Skull\" \\'Chainlink Flail\\' \\'Cinquedea\\' \\'Cipher Pata\\'\\n \\'Clawmark Seal\\' \"Clayman\\'s Harpoon\" \\'Claymore\\' \"Cleanrot Knight\\'s Sword\"\\n \\'Cleanrot Spear\\' \\'Clinging Bone\\' \\'Club\\' \\'Coded Sword\\'\\n \"Commander\\'s Standard\" \\'Composite Bow\\' \\'Cranial Vessel Candlestand\\'\\n \"Crepus\\'s Black-Key Crossbow\" \\'Crescent Moon Axe\\' \\'Cross-Naginata\\'\\n \\'Crystal Knife\\' \\'Crystal Spear\\' \\'Crystal Staff\\' \\'Crystal Sword\\'\\n \\'Curved Club\\' \\'Curved Great Club\\' \\'Dagger\\' \\'Dark Moon Greatsword\\'\\n \\'Death Ritual Spear\\' \"Death\\'s Poker\" \"Demi-Human Queen\\'s Staff\"\\n \"Devourer\\'s Scepter\" \"Digger\\'s Staff\" \\'Dismounter\\'\\n \\'Dragon Communion Seal\\' \\'Dragon Greatclaw\\' \\'Dragon Halberd\\'\\n \"Dragon King\\'s Cragblade\" \\'Dragonscale Blade\\' \\'Duelist Greataxe\\'\\n \\'Eclipse Shotel\\' \"Eleonora\\'s Poleblade\" \"Envoy\\'s Greathorn\"\\n \"Envoy\\'s Horn\" \"Envoy\\'s Long Horn\" \\'Erdsteel Dagger\\' \\'Erdtree Bow\\'\\n \\'Erdtree Greatbow\\' \\'Erdtree Seal\\' \\'Estoc\\' \"Executioner\\'s Greataxe\"\\n \\'Falchion\\' \\'Fallingstar Beast Jaw\\' \\'Family Heads\\' \\'Finger Seal\\' \\'Flail\\'\\n \\'Flamberge\\' \\'Flowing Curved Sword\\' \\'Forked Greatsword\\' \\'Forked Hatchet\\'\\n \\'Frenzied Flame Seal\\' \\'Frozen Needle\\' \\'Full Moon Crossbow\\'\\n \"Gargoyle\\'s Black Axe\" \"Gargoyle\\'s Black Blades\"\\n \"Gargoyle\\'s Black Halberd\" \"Gargoyle\\'s Blackblade\" \"Gargoyle\\'s Great Axe\"\\n \"Gargoyle\\'s Greatsword\" \"Gargoyle\\'s Halberd\" \"Gargoyle\\'s Twinblade\"\\n \\'Gelmir Glintstone Staff\\' \"Ghiza\\'s Wheel\" \\'Ghostflame Torch\\'\\n \"Giant\\'s Red Braid\" \"Giant\\'s Seal\" \\'Giant-Crusher\\' \\'Glaive\\'\\n \\'Glintstone Kris\\' \\'Glintstone Staff\\' \\'Godskin Peeler\\' \\'Godskin Stitcher\\'\\n \"Godslayer\\'s Greatsword\" \"Godslayer\\'s Seal\" \\'Golden Epitaph\\'\\n \\'Golden Halberd\\' \\'Golden Order Greatsword\\' \\'Golden Order Seal\\'\\n \\'Golem Greatbow\\' \"Golem\\'s Halberd\" \\'Grafted Blade Greatsword\\'\\n \\'Grafted Dragon\\' \\'Grave Scythe\\' \\'Gravel Stone Seal\\' \\'Great Club\\'\\n \\'Great Knife\\' \\'Great Mace\\' \\'Great Omenkiller Cleaver\\' \\'Great Stars\\'\\n \\'Great epee\\' \\'Greataxe\\' \\'Greatbow\\' \\'Greathorn Hammer\\' \\'Greatsword\\'\\n \\'Grossmesser\\' \"Guardian\\'s Swordspear\" \\'Halberd\\' \\'Halo Scythe\\' \\'Hammer\\'\\n \\'Hand Axe\\' \\'Hand Ballista\\' \\'Hand of Malenia\\' \\'Harp Bow\\' \\'Heavy Crossbow\\'\\n \"Helphen\\'s Steeple\" \\'Highland Axe\\' \\'Hookclaws\\' \\'Horn Bow\\'\\n \"Hoslow\\'s Petal Whip\" \\'Icerind Hatchet\\' \"Inquisitor\\'s Girandole\"\\n \\'Inseparable Sword\\' \\'Iron Ball\\' \\'Iron Cleaver\\' \\'Iron Greatsword\\'\\n \\'Iron Spear\\' \\'Ivory Sickle\\' \\'Jar Cannon\\' \\'Jawbone Axe\\' \\'Katar\\'\\n \"Knight\\'s Greatsword\" \\'Lance\\' \\'Large Club\\' \\'Lazuli Glintstone Sword\\'\\n \\'Light Crossbow\\' \\'Lion Greatbow\\' \\'Longbow\\' \\'Longhaft Axe\\' \\'Longsword\\'\\n \"Lordsworn\\'s Greatsword\" \"Lordsworn\\'s Straight Sword\"\\n \"Loretta\\'s War Sickle\" \\'Lucerne\\' \"Lusat\\'s Glintstone Staff\" \\'Mace\\'\\n \\'Magma Blade\\' \\'Magma Whip Candlestick\\' \"Magma Wyrm\\'s Scalesword\"\\n \"Maliketh\\'s Black Blade\" \\'Mantis Blade\\' \"Marais Executioner\\'s Sword\"\\n \"Marika\\'s Hammer\" \\'Meteoric Ore Blade\\' \"Miquellan Knight\\'s Sword\"\\n \\'Misbegotten Shortbow\\' \\'Misericorde\\' \"Mohgwyn\\'s Sacred Spear\"\\n \"Monk\\'s Flameblade\" \"Monk\\'s Flamemace\" \\'Moonveil\\'\\n \"Morgott\\'s Cursed Sword\" \\'Morning Star\\' \\'Nagakiba\\' \\'Nightrider Flail\\'\\n \\'Nightrider Glaive\\' \"Noble\\'s Estoc\" \"Noble\\'s Slender Sword\"\\n \\'Nox Flowing Hammer\\' \\'Nox Flowing Sword\\' \\'Omen Cleaver\\'\\n \"Onyx Lord\\'s Greatsword\" \"Ordovis\\'s Greatsword\"\\n \\'Ornamental Straight Sword\\' \\'Parrying Dagger\\' \\'Partisan\\' \"Pest\\'s Glaive\"\\n \\'Pickaxe\\' \\'Pike\\' \"Prelate\\'s Inferno Crozier\" \"Prince of Death\\'s Staff\"\\n \\'Pulley Bow\\' \\'Pulley Crossbow\\' \\'Rapier\\' \\'Raptor Talons\\'\\n \\'Red Branch Shortbow\\' \\'Reduvia\\' \\'Regalia of Eochaid\\' \\'Ringed Finger\\'\\n \\'Ripple Blade\\' \\'Ripple Crescent Halberd\\' \\'Rivers of Blood\\'\\n \"Rogier\\'s Rapier\" \"Rosus\\' Axe\" \\'Rotten Battle Hammer\\'\\n \\'Rotten Crystal Spear\\' \\'Rotten Crystal Staff\\' \\'Rotten Crystal Sword\\'\\n \\'Rotten Greataxe\\' \\'Rotten Staff\\' \\'Royal Greatsword\\' \\'Ruins Greatsword\\'\\n \\'Rusted Anchor\\' \\'Sacred Relic Sword\\' \\'Sacrificial Axe\\'\\n \"Scavenger\\'s Curved Sword\" \\'Scepter of the All-Knowing\\' \\'Scimitar\\'\\n \"Scorpion\\'s Stinger\" \\'Scythe\\' \"Sentry\\'s Torch\" \\'Serpent Bow\\'\\n \"Serpent-God\\'s Curved Sword\" \\'Serpent-Hunter\\' \\'Serpentbone Blade\\'\\n \\'Shamshir\\' \\'Short Spear\\' \\'Short Sword\\' \\'Shortbow\\' \\'Shotel\\'\\n \"Siluria\\'s Tree\" \"Soldier\\'s Crossbow\" \\'Spear\\' \\'Spiked Caestus\\'\\n \\'Spiked Club\\' \\'Spiked Spear\\' \"St. Trina\\'s Torch\" \\'Staff of Loss\\'\\n \\'Staff of the Avatar\\' \\'Staff of the Guilty\\' \\'Star Fist\\'\\n \\'Starscourge Greatsword\\' \\'Steel-Wire Torch\\' \\'Stone Club\\' \\'Stormhawk Axe\\'\\n \\'Sword of Milos\\' \\'Sword of Night and Flame\\' \\'Sword of St. Trina\\'\\n \\'Thorned Whip\\' \\'Torch\\' \\'Torchpole\\' \\'Treespear\\' \"Troll Knight\\'s Sword\"\\n \"Troll\\'s Golden Sword\" \"Troll\\'s Hammer\" \\'Twinblade\\'\\n \\'Twinned Knight Swords\\' \\'Uchigatana\\' \\'Urumi\\' \"Varre\\'s Bouquet\"\\n \\'Venomous Fang\\' \"Veteran\\'s Prosthesis\" \\'Vulgar Militia Saw\\'\\n \\'Vulgar Militia Shotel\\' \"Vyke\\'s War Spear\" \\'Wakizashi\\' \"Warhawk\\'s Talon\"\\n \\'Warped Axe\\' \\'Warpick\\' \"Watchdog\\'s Greatsword\" \"Watchdog\\'s Staff\"\\n \\'Weathered Straight Sword\\' \\'Whip\\' \\'Wing of Astel\\' \\'Winged Greathorn\\'\\n \\'Winged Scythe\\' \\'Zamor Curved Sword\\' \\'Zweihander\\']'"
      ]
     },
     "metadata": {},
     "output_type": "display_data"
    },
    {
     "name": "stdout",
     "output_type": "stream",
     "text": [
      "\n",
      "\n"
     ]
    },
    {
     "data": {
      "text/plain": [
       "\"Type:['Glintstone Staff' 'Greatsword' 'Bow' 'Thrusting Sword' 'Crossbow'\\n 'Colossal Weapon' 'Greataxe' 'Curved Sword' 'Halberd' 'Flail' 'Axe'\\n 'Warhammer' 'Torch' 'Curved Greatsword' 'Dagger' 'Claw'\\n 'Heavy Thrusting Sword' 'Spear' 'Straight Sword' 'Fist' 'Sacred Seal'\\n 'Hammer' 'Light Bow' 'Katana' 'Twinblade' 'Greatbow' 'Whip'\\n 'Colossal Sword' 'Reaper' 'Ballista' 'Great Spear']\""
      ]
     },
     "metadata": {},
     "output_type": "display_data"
    },
    {
     "name": "stdout",
     "output_type": "stream",
     "text": [
      "\n",
      "\n"
     ]
    },
    {
     "data": {
      "text/plain": [
       "\"Phy:['43' '313' '200' '29' '240' '308' '404' '347' '58' '289' '306' '338'\\n '159' '301' '320' '142' '284' '350' '276' '171' '161' '173' '296' '230'\\n '345' '198' '298' '286' '328' '220' '235' '38' '215' '291' '267' '193'\\n '-' '54' '242' '249' '196' '252' '238' '357' '269' '75' '259' '279' '355'\\n '181' '274' '66' '61' '294' '330' '225' '416' '188' '176' '164' '98'\\n '147' '262' '367' '213' '316' '303' '247' '175' '245' '325' '50' '382'\\n '122' '379' '323' '139' '311' '208' '210' '318' '387' '396' '218' '352'\\n '377' '183' '369' '401' '281' '340' '600' '151' '288' '271' '365' '672'\\n '237' '260' '333' '257' '166' '178' '254' '146' '203' '186' '227' '102'\\n '360' '137' '264' '222' '124' '149' '132' '374' '112']\""
      ]
     },
     "metadata": {},
     "output_type": "display_data"
    },
    {
     "name": "stdout",
     "output_type": "stream",
     "text": [
      "\n",
      "\n"
     ]
    },
    {
     "data": {
      "text/plain": [
       "\"Mag:['-' '93' '191' '215' '156' '58' '129' '80' '166' '240' '88' '208' '137'\\n '175' '220' '247' '73' '147' '230' '173' '149' '176' '213' '186' '139'\\n '75' '161' '328' '90' '203' '78' '196']\""
      ]
     },
     "metadata": {},
     "output_type": "display_data"
    },
    {
     "name": "stdout",
     "output_type": "stream",
     "text": [
      "\n",
      "\n"
     ]
    },
    {
     "data": {
      "text/plain": [
       "\"Fir:['-' '254' '191' '240' '169' '176' '129' '188' '139' '161' '151' '181'\\n '186' '222' '267' '137' '237' '75' '110']\""
      ]
     },
     "metadata": {},
     "output_type": "display_data"
    },
    {
     "name": "stdout",
     "output_type": "stream",
     "text": [
      "\n",
      "\n"
     ]
    },
    {
     "data": {
      "text/plain": [
       "\"Lit:['-' '154' '191' '144' '129']\""
      ]
     },
     "metadata": {},
     "output_type": "display_data"
    },
    {
     "name": "stdout",
     "output_type": "stream",
     "text": [
      "\n",
      "\n"
     ]
    },
    {
     "data": {
      "text/plain": [
       "\"Hol:['-' '183' '159' '105' '208' '161' '188' '191' '151' '122' '36' '294'\\n '237' '301' '298' '213' '252' '186' '240' '200' '166' '169' '245' '220'\\n '178' '193' '254']\""
      ]
     },
     "metadata": {},
     "output_type": "display_data"
    },
    {
     "name": "stdout",
     "output_type": "stream",
     "text": [
      "\n",
      "\n"
     ]
    },
    {
     "data": {
      "text/plain": [
       "'Cri:[100 110 130 115 124 140]'"
      ]
     },
     "metadata": {},
     "output_type": "display_data"
    },
    {
     "name": "stdout",
     "output_type": "stream",
     "text": [
      "\n",
      "\n"
     ]
    },
    {
     "data": {
      "text/plain": [
       "'Sta:[ 40 126  60  38  62  68 150  42  98 132 122 106 112 194  94 182 164  56\\n 138  78  88 218 100  86  90  80  66 102  76 136 190  64 156  46  84 116\\n 154 202 172 180 118 152 184 104 224 128 120 134 160 200 168 114  72  92\\n 110 140  96  82 210 108 124 146 130]'"
      ]
     },
     "metadata": {},
     "output_type": "display_data"
    },
    {
     "name": "stdout",
     "output_type": "stream",
     "text": [
      "\n",
      "\n"
     ]
    },
    {
     "data": {
      "text/plain": [
       "\"Str:['D' 'B' 'E' '-' 'C' 'A' 'S']\""
      ]
     },
     "metadata": {},
     "output_type": "display_data"
    },
    {
     "name": "stdout",
     "output_type": "stream",
     "text": [
      "\n",
      "\n"
     ]
    },
    {
     "data": {
      "text/plain": [
       "\"Dex:['-' 'D' 'C' 'E' 'B']\""
      ]
     },
     "metadata": {},
     "output_type": "display_data"
    },
    {
     "name": "stdout",
     "output_type": "stream",
     "text": [
      "\n",
      "\n"
     ]
    },
    {
     "data": {
      "text/plain": [
       "\"Int:['S' 'D' '-' 'B' 'C' 'A' 'E']\""
      ]
     },
     "metadata": {},
     "output_type": "display_data"
    },
    {
     "name": "stdout",
     "output_type": "stream",
     "text": [
      "\n",
      "\n"
     ]
    },
    {
     "data": {
      "text/plain": [
       "\"Fai:['-' 'D' 'C' 'B' 'A' 'S']\""
      ]
     },
     "metadata": {},
     "output_type": "display_data"
    },
    {
     "name": "stdout",
     "output_type": "stream",
     "text": [
      "\n",
      "\n"
     ]
    },
    {
     "data": {
      "text/plain": [
       "\"Arc:['-' 'S' 'B' 'C' 'D']\""
      ]
     },
     "metadata": {},
     "output_type": "display_data"
    },
    {
     "name": "stdout",
     "output_type": "stream",
     "text": [
      "\n",
      "\n"
     ]
    },
    {
     "data": {
      "text/plain": [
       "\"Any:['-' '(55)' '(60)' '(38)' '(50)' '(65)' '(70)' '(45)' '(75)' '(66)' '(72)']\""
      ]
     },
     "metadata": {},
     "output_type": "display_data"
    },
    {
     "name": "stdout",
     "output_type": "stream",
     "text": [
      "\n",
      "\n"
     ]
    },
    {
     "data": {
      "text/plain": [
       "\"Phy_Guard:['25' '56' '-' '23' '47' '75' '65' '48' '68' '55' '32' '62' '81' '44' '26'\\n '31' '72' '38' '36' '57' '60' '74' '58' '35' '41' '40' '63' '43' '9' '49'\\n '51' '13' '64' '71' '52' '28' '45' '54' '66' '46' '78' '33' '70' '42'\\n '37' '61' '73' '21' '24' '88' '80' '27' '69' '84' '59' '30' '50' '53'\\n '82' '39' '76' '67']\""
      ]
     },
     "metadata": {},
     "output_type": "display_data"
    },
    {
     "name": "stdout",
     "output_type": "stream",
     "text": [
      "\n",
      "\n"
     ]
    },
    {
     "data": {
      "text/plain": [
       "\"Mag_Guard:['15' '33' '-' '14' '31' '45' '35' '36' '48' '17' '43' '18' '39' '22' '21'\\n '40' '20' '27' '52' '25' '34' '28' '38' '41' '37' '32' '44' '30' '63'\\n '42' '47' '23' '26' '55' '24' '12' '50' '29' '60' '49' '10' '57' '19'\\n '56' '46' '16']\""
      ]
     },
     "metadata": {},
     "output_type": "display_data"
    },
    {
     "name": "stdout",
     "output_type": "stream",
     "text": [
      "\n",
      "\n"
     ]
    },
    {
     "data": {
      "text/plain": [
       "\"Fir_Guard:['15' '27' '-' '14' '31' '45' '35' '36' '24' '28' '33' '43' '18' '54' '22'\\n '21' '40' '20' '26' '25' '34' '17' '41' '51' '32' '30' '37' '47' '38'\\n '42' '13' '52' '49' '48' '44' '50' '29' '39' '19' '23' '46' '16']\""
      ]
     },
     "metadata": {},
     "output_type": "display_data"
    },
    {
     "name": "stdout",
     "output_type": "stream",
     "text": [
      "\n",
      "\n"
     ]
    },
    {
     "data": {
      "text/plain": [
       "\"Lit_Guard:['15' '27' '-' '14' '31' '45' '35' '36' '24' '17' '33' '43' '18' '39' '22'\\n '21' '40' '47' '20' '26' '25' '34' '28' '41' '37' '32' '30' '52' '50'\\n '46' '23' '38' '42' '13' '12' '48' '29' '10' '49' '19' '44' '16']\""
      ]
     },
     "metadata": {},
     "output_type": "display_data"
    },
    {
     "name": "stdout",
     "output_type": "stream",
     "text": [
      "\n",
      "\n"
     ]
    },
    {
     "data": {
      "text/plain": [
       "\"Hol_Guard:['15' '27' '-' '14' '31' '45' '35' '36' '24' '17' '43' '33' '42' '30' '39'\\n '22' '21' '40' '20' '26' '25' '34' '28' '61' '38' '58' '41' '37' '32'\\n '18' '47' '50' '23' '55' '54' '59' '72' '66' '13' '12' '52' '56' '60'\\n '48' '10' '49' '44' '29' '19' '57' '46' '16']\""
      ]
     },
     "metadata": {},
     "output_type": "display_data"
    },
    {
     "name": "stdout",
     "output_type": "stream",
     "text": [
      "\n",
      "\n"
     ]
    },
    {
     "data": {
      "text/plain": [
       "\"Bst:['15' '39' '-' '14' '25' '50' '42' '36' '52' '20' '37' '22' '62' '32' '26'\\n '44' '18' '34' '40' '57' '24' '31' '48' '28' '19' '27' '33' '21' '49'\\n '46' '17' '47' '30' '55' '60' '38' '69' '45' '53' '56' '54' '67' '43'\\n '35' '66' '16' '51' '61' '23']\""
      ]
     },
     "metadata": {},
     "output_type": "display_data"
    },
    {
     "name": "stdout",
     "output_type": "stream",
     "text": [
      "\n",
      "\n"
     ]
    },
    {
     "data": {
      "text/plain": [
       "\"Rst:['10' '19' '-' '9' '25' '20' '12' '21' '15' '14' '11' '24' '17' '23' '18'\\n '13' '16' '26' '22' '29' '28' '27']\""
      ]
     },
     "metadata": {},
     "output_type": "display_data"
    },
    {
     "name": "stdout",
     "output_type": "stream",
     "text": [
      "\n",
      "\n"
     ]
    },
    {
     "data": {
      "text/plain": [
       "'Wgt:[ 3.   8.   4.5  2.5  6.  18.  11.   4.   5.  10.   9.   5.5 16.5  2.\\n  1.5 13.5 11.5  8.5 12.5  3.5  0.   6.5 16.  10.5 20.  19.5  9.5 15.\\n 21.5 12.  19.  26.5  7.  17.5 14.5 21.  17.  13.  23.   7.5 22.  23.5\\n 15.5]'"
      ]
     },
     "metadata": {},
     "output_type": "display_data"
    },
    {
     "name": "stdout",
     "output_type": "stream",
     "text": [
      "\n",
      "\n"
     ]
    },
    {
     "data": {
      "text/plain": [
       "\"Upgrade:['Smithing Stones' 'Somber Smithing Stones']\""
      ]
     },
     "metadata": {},
     "output_type": "display_data"
    },
    {
     "name": "stdout",
     "output_type": "stream",
     "text": [
      "\n",
      "\n"
     ]
    }
   ],
   "source": [
    "df.columns = df.columns.str.replace('.1','_Guard')\n",
    "cl = df.columns\n",
    "print('Data: ----------------------------------------------------------------\\n')\n",
    "display(df.head(5))\n",
    "print('Index: ----------------------------------------------------------------\\n')\n",
    "display(cl)\n",
    "print('Data Info: ----------------------------------------------------------------\\n')\n",
    "display(infoOut(df,vunique=True,srt=True))\n",
    "print('Data Unique: ----------------------------------------------------------------\\n')\n",
    "for col in df.columns:\n",
    "       display('{}:{}'.format(col,df[col].unique()))\n",
    "       print('\\n')"
   ]
  },
  {
   "cell_type": "code",
   "execution_count": 11,
   "metadata": {},
   "outputs": [],
   "source": [
    "def show_values_on_bars(axs, h_v=\"v\", space=0.4):\n",
    "    '''Plots the value at the end of the a seaborn barplot.\n",
    "    axs: the ax of the plot\n",
    "    h_v: weather or not the barplot is vertical/ horizontal'''\n",
    "    \n",
    "    def _show_on_single_plot(ax):\n",
    "        if h_v == \"v\":\n",
    "            for p in ax.patches:\n",
    "                _x = p.get_x() + p.get_width() / 2\n",
    "                _y = p.get_y() + p.get_height()\n",
    "                value = int(p.get_height())\n",
    "                ax.text(_x, _y, format(value, ','), ha=\"center\") \n",
    "        elif h_v == \"h\":\n",
    "            for p in ax.patches:\n",
    "                _x = p.get_x() + p.get_width() + float(space)\n",
    "                _y = p.get_y() + p.get_height()\n",
    "                value = int(p.get_width())\n",
    "                ax.text(_x, _y, format(value, ','), ha=\"left\")\n",
    "\n",
    "    if isinstance(axs, np.ndarray):\n",
    "        for idx, ax in np.ndenumerate(axs):\n",
    "            _show_on_single_plot(ax)\n",
    "    else:\n",
    "        _show_on_single_plot(axs)"
   ]
  },
  {
   "cell_type": "code",
   "execution_count": 14,
   "metadata": {},
   "outputs": [
    {
     "name": "stdout",
     "output_type": "stream",
     "text": [
      "Percentage of null: ----------------------------------\n"
     ]
    },
    {
     "data": {
      "text/html": [
       "<div>\n",
       "<style scoped>\n",
       "    .dataframe tbody tr th:only-of-type {\n",
       "        vertical-align: middle;\n",
       "    }\n",
       "\n",
       "    .dataframe tbody tr th {\n",
       "        vertical-align: top;\n",
       "    }\n",
       "\n",
       "    .dataframe thead th {\n",
       "        text-align: right;\n",
       "    }\n",
       "</style>\n",
       "<table border=\"1\" class=\"dataframe\">\n",
       "  <thead>\n",
       "    <tr style=\"text-align: right;\">\n",
       "      <th></th>\n",
       "      <th>Name</th>\n",
       "      <th>Percent</th>\n",
       "    </tr>\n",
       "  </thead>\n",
       "  <tbody>\n",
       "    <tr>\n",
       "      <th>0</th>\n",
       "      <td>Name</td>\n",
       "      <td>0.000000</td>\n",
       "    </tr>\n",
       "    <tr>\n",
       "      <th>1</th>\n",
       "      <td>Type</td>\n",
       "      <td>0.000000</td>\n",
       "    </tr>\n",
       "    <tr>\n",
       "      <th>2</th>\n",
       "      <td>Phy</td>\n",
       "      <td>0.651466</td>\n",
       "    </tr>\n",
       "    <tr>\n",
       "      <th>3</th>\n",
       "      <td>Mag</td>\n",
       "      <td>87.947883</td>\n",
       "    </tr>\n",
       "    <tr>\n",
       "      <th>4</th>\n",
       "      <td>Fir</td>\n",
       "      <td>93.159609</td>\n",
       "    </tr>\n",
       "    <tr>\n",
       "      <th>5</th>\n",
       "      <td>Lit</td>\n",
       "      <td>98.697068</td>\n",
       "    </tr>\n",
       "    <tr>\n",
       "      <th>6</th>\n",
       "      <td>Hol</td>\n",
       "      <td>89.576547</td>\n",
       "    </tr>\n",
       "    <tr>\n",
       "      <th>7</th>\n",
       "      <td>Cri</td>\n",
       "      <td>0.000000</td>\n",
       "    </tr>\n",
       "    <tr>\n",
       "      <th>8</th>\n",
       "      <td>Sta</td>\n",
       "      <td>0.000000</td>\n",
       "    </tr>\n",
       "    <tr>\n",
       "      <th>9</th>\n",
       "      <td>Str</td>\n",
       "      <td>5.211726</td>\n",
       "    </tr>\n",
       "    <tr>\n",
       "      <th>10</th>\n",
       "      <td>Dex</td>\n",
       "      <td>14.332248</td>\n",
       "    </tr>\n",
       "    <tr>\n",
       "      <th>11</th>\n",
       "      <td>Int</td>\n",
       "      <td>83.387622</td>\n",
       "    </tr>\n",
       "    <tr>\n",
       "      <th>12</th>\n",
       "      <td>Fai</td>\n",
       "      <td>81.107492</td>\n",
       "    </tr>\n",
       "    <tr>\n",
       "      <th>13</th>\n",
       "      <td>Arc</td>\n",
       "      <td>95.114007</td>\n",
       "    </tr>\n",
       "    <tr>\n",
       "      <th>14</th>\n",
       "      <td>Any</td>\n",
       "      <td>78.827362</td>\n",
       "    </tr>\n",
       "    <tr>\n",
       "      <th>15</th>\n",
       "      <td>Phy_Resist</td>\n",
       "      <td>8.143322</td>\n",
       "    </tr>\n",
       "    <tr>\n",
       "      <th>16</th>\n",
       "      <td>Mag_Resist</td>\n",
       "      <td>8.143322</td>\n",
       "    </tr>\n",
       "    <tr>\n",
       "      <th>17</th>\n",
       "      <td>Fir_Resist</td>\n",
       "      <td>8.143322</td>\n",
       "    </tr>\n",
       "    <tr>\n",
       "      <th>18</th>\n",
       "      <td>Lit_Resist</td>\n",
       "      <td>8.143322</td>\n",
       "    </tr>\n",
       "    <tr>\n",
       "      <th>19</th>\n",
       "      <td>Hol_Resist</td>\n",
       "      <td>8.143322</td>\n",
       "    </tr>\n",
       "    <tr>\n",
       "      <th>20</th>\n",
       "      <td>Bst</td>\n",
       "      <td>8.143322</td>\n",
       "    </tr>\n",
       "    <tr>\n",
       "      <th>21</th>\n",
       "      <td>Rst</td>\n",
       "      <td>8.143322</td>\n",
       "    </tr>\n",
       "    <tr>\n",
       "      <th>22</th>\n",
       "      <td>Wgt</td>\n",
       "      <td>0.000000</td>\n",
       "    </tr>\n",
       "    <tr>\n",
       "      <th>23</th>\n",
       "      <td>Upgrade</td>\n",
       "      <td>0.000000</td>\n",
       "    </tr>\n",
       "  </tbody>\n",
       "</table>\n",
       "</div>"
      ],
      "text/plain": [
       "          Name    Percent\n",
       "0         Name   0.000000\n",
       "1         Type   0.000000\n",
       "2          Phy   0.651466\n",
       "3          Mag  87.947883\n",
       "4          Fir  93.159609\n",
       "5          Lit  98.697068\n",
       "6          Hol  89.576547\n",
       "7          Cri   0.000000\n",
       "8          Sta   0.000000\n",
       "9          Str   5.211726\n",
       "10         Dex  14.332248\n",
       "11         Int  83.387622\n",
       "12         Fai  81.107492\n",
       "13         Arc  95.114007\n",
       "14         Any  78.827362\n",
       "15  Phy_Resist   8.143322\n",
       "16  Mag_Resist   8.143322\n",
       "17  Fir_Resist   8.143322\n",
       "18  Lit_Resist   8.143322\n",
       "19  Hol_Resist   8.143322\n",
       "20         Bst   8.143322\n",
       "21         Rst   8.143322\n",
       "22         Wgt   0.000000\n",
       "23     Upgrade   0.000000"
      ]
     },
     "metadata": {},
     "output_type": "display_data"
    },
    {
     "name": "stdout",
     "output_type": "stream",
     "text": [
      "Heatmap of null: ----------------------------------\n"
     ]
    },
    {
     "data": {
      "text/plain": [
       "Text(0.5, 1.0, 'Heatmap of null values')"
      ]
     },
     "execution_count": 14,
     "metadata": {},
     "output_type": "execute_result"
    },
    {
     "data": {
      "image/png": "[encoded data removed]",
      "text/plain": [
       "<Figure size 720x720 with 1 Axes>"
      ]
     },
     "metadata": {},
     "output_type": "display_data"
    },
    {
     "data": {
      "image/png": "[encoded data removed]",
      "text/plain": [
       "<Figure size 720x720 with 1 Axes>"
      ]
     },
     "metadata": {},
     "output_type": "display_data"
    }
   ],
   "source": [
    "for col in df.columns:\n",
    "    df[col].replace({'-':np.nan},inplace=True)\n",
    "print('Percentage of null: ----------------------------------')\n",
    "null_per = df.isnull().sum()*100/len(df)\n",
    "null_per = null_per.to_frame()\n",
    "null_per.columns = ['Percent']\n",
    "null_per.index.names = ['Name']\n",
    "null_per.reset_index(inplace=True)\n",
    "display(null_per)\n",
    "fig,ax = plt.subplots(figsize=(10,10))\n",
    "sns.barplot(x='Percent',y='Name',data=null_per)\n",
    "show_values_on_bars(axs=ax,h_v='h',space = 0.2)\n",
    "print('Heatmap of null: ----------------------------------')\n",
    "fig,ax = plt.subplots(figsize=(10,10))\n",
    "sns.heatmap(df.isnull(),cbar=False,cmap=clmap)\n",
    "plt.title('Heatmap of null values',fontsize=15,fontweight='bold')"
   ]
  },
  {
   "cell_type": "code",
   "execution_count": 15,
   "metadata": {},
   "outputs": [
    {
     "data": {
      "text/html": [
       "<div>\n",
       "<style scoped>\n",
       "    .dataframe tbody tr th:only-of-type {\n",
       "        vertical-align: middle;\n",
       "    }\n",
       "\n",
       "    .dataframe tbody tr th {\n",
       "        vertical-align: top;\n",
       "    }\n",
       "\n",
       "    .dataframe thead th {\n",
       "        text-align: right;\n",
       "    }\n",
       "</style>\n",
       "<table border=\"1\" class=\"dataframe\">\n",
       "  <thead>\n",
       "    <tr style=\"text-align: right;\">\n",
       "      <th></th>\n",
       "      <th>Name</th>\n",
       "      <th>Type</th>\n",
       "      <th>Phy</th>\n",
       "      <th>Mag</th>\n",
       "      <th>Fir</th>\n",
       "      <th>Lit</th>\n",
       "      <th>Hol</th>\n",
       "      <th>Cri</th>\n",
       "      <th>Sta</th>\n",
       "      <th>Str</th>\n",
       "      <th>...</th>\n",
       "      <th>Any</th>\n",
       "      <th>Phy_Resist</th>\n",
       "      <th>Mag_Resist</th>\n",
       "      <th>Fir_Resist</th>\n",
       "      <th>Lit_Resist</th>\n",
       "      <th>Hol_Resist</th>\n",
       "      <th>Bst</th>\n",
       "      <th>Rst</th>\n",
       "      <th>Wgt</th>\n",
       "      <th>Upgrade</th>\n",
       "    </tr>\n",
       "  </thead>\n",
       "  <tbody>\n",
       "    <tr>\n",
       "      <th>45</th>\n",
       "      <td>Cipher Pata</td>\n",
       "      <td>Fist</td>\n",
       "      <td>NaN</td>\n",
       "      <td>NaN</td>\n",
       "      <td>NaN</td>\n",
       "      <td>NaN</td>\n",
       "      <td>208</td>\n",
       "      <td>100</td>\n",
       "      <td>90</td>\n",
       "      <td>NaN</td>\n",
       "      <td>...</td>\n",
       "      <td>NaN</td>\n",
       "      <td>9</td>\n",
       "      <td>14</td>\n",
       "      <td>14</td>\n",
       "      <td>14</td>\n",
       "      <td>61</td>\n",
       "      <td>19</td>\n",
       "      <td>9</td>\n",
       "      <td>0.0</td>\n",
       "      <td>Somber Smithing Stones</td>\n",
       "    </tr>\n",
       "    <tr>\n",
       "      <th>53</th>\n",
       "      <td>Coded Sword</td>\n",
       "      <td>Straight Sword</td>\n",
       "      <td>NaN</td>\n",
       "      <td>NaN</td>\n",
       "      <td>NaN</td>\n",
       "      <td>NaN</td>\n",
       "      <td>208</td>\n",
       "      <td>100</td>\n",
       "      <td>76</td>\n",
       "      <td>NaN</td>\n",
       "      <td>...</td>\n",
       "      <td>NaN</td>\n",
       "      <td>13</td>\n",
       "      <td>22</td>\n",
       "      <td>22</td>\n",
       "      <td>22</td>\n",
       "      <td>58</td>\n",
       "      <td>27</td>\n",
       "      <td>13</td>\n",
       "      <td>2.5</td>\n",
       "      <td>Somber Smithing Stones</td>\n",
       "    </tr>\n",
       "  </tbody>\n",
       "</table>\n",
       "<p>2 rows × 24 columns</p>\n",
       "</div>"
      ],
      "text/plain": [
       "           Name            Type  Phy  Mag  Fir  Lit  Hol  Cri  Sta  Str  ...  \\\n",
       "45  Cipher Pata            Fist  NaN  NaN  NaN  NaN  208  100   90  NaN  ...   \n",
       "53  Coded Sword  Straight Sword  NaN  NaN  NaN  NaN  208  100   76  NaN  ...   \n",
       "\n",
       "    Any Phy_Resist Mag_Resist Fir_Resist Lit_Resist Hol_Resist Bst Rst  Wgt  \\\n",
       "45  NaN          9         14         14         14         61  19   9  0.0   \n",
       "53  NaN         13         22         22         22         58  27  13  2.5   \n",
       "\n",
       "                   Upgrade  \n",
       "45  Somber Smithing Stones  \n",
       "53  Somber Smithing Stones  \n",
       "\n",
       "[2 rows x 24 columns]"
      ]
     },
     "execution_count": 15,
     "metadata": {},
     "output_type": "execute_result"
    }
   ],
   "source": [
    "df[df['Phy'].isnull()]"
   ]
  },
  {
   "cell_type": "code",
   "execution_count": 16,
   "metadata": {},
   "outputs": [],
   "source": [
    "cols = ['Phy', 'Mag', 'Fir', 'Lit', 'Hol', 'Cri', 'Sta','Phy_Resist', 'Mag_Resist',\n",
    "       'Fir_Resist', 'Lit_Resist', 'Hol_Resist', 'Bst', 'Rst']\n",
    "for col in cols:\n",
    "        df[col].fillna(0,inplace=True)"
   ]
  },
  {
   "cell_type": "code",
   "execution_count": 17,
   "metadata": {},
   "outputs": [
    {
     "name": "stdout",
     "output_type": "stream",
     "text": [
      "<class 'pandas.core.frame.DataFrame'>\n",
      "RangeIndex: 307 entries, 0 to 306\n",
      "Data columns (total 24 columns):\n",
      " #   Column      Non-Null Count  Dtype  \n",
      "---  ------      --------------  -----  \n",
      " 0   Name        307 non-null    object \n",
      " 1   Type        307 non-null    object \n",
      " 2   Phy         307 non-null    int32  \n",
      " 3   Mag         307 non-null    int32  \n",
      " 4   Fir         307 non-null    int32  \n",
      " 5   Lit         307 non-null    int32  \n",
      " 6   Hol         307 non-null    int32  \n",
      " 7   Cri         307 non-null    int32  \n",
      " 8   Sta         307 non-null    int32  \n",
      " 9   Str         291 non-null    object \n",
      " 10  Dex         263 non-null    object \n",
      " 11  Int         51 non-null     object \n",
      " 12  Fai         58 non-null     object \n",
      " 13  Arc         15 non-null     object \n",
      " 14  Any         65 non-null     object \n",
      " 15  Phy_Resist  307 non-null    int32  \n",
      " 16  Mag_Resist  307 non-null    int32  \n",
      " 17  Fir_Resist  307 non-null    int32  \n",
      " 18  Lit_Resist  307 non-null    int32  \n",
      " 19  Hol_Resist  307 non-null    int32  \n",
      " 20  Bst         307 non-null    int32  \n",
      " 21  Rst         307 non-null    int32  \n",
      " 22  Wgt         307 non-null    float64\n",
      " 23  Upgrade     307 non-null    object \n",
      "dtypes: float64(1), int32(14), object(9)\n",
      "memory usage: 40.9+ KB\n"
     ]
    },
    {
     "data": {
      "text/plain": [
       "None"
      ]
     },
     "metadata": {},
     "output_type": "display_data"
    }
   ],
   "source": [
    "for col in cols:\n",
    "    df[col] = df[col].astype('str').astype('int')\n",
    "display(df.info())"
   ]
  },
  {
   "cell_type": "code",
   "execution_count": 18,
   "metadata": {},
   "outputs": [
    {
     "data": {
      "text/plain": [
       "<AxesSubplot:>"
      ]
     },
     "execution_count": 18,
     "metadata": {},
     "output_type": "execute_result"
    },
    {
     "data": {
      "image/png": "[encoded data removed]",
      "text/plain": [
       "<Figure size 1080x1080 with 2 Axes>"
      ]
     },
     "metadata": {},
     "output_type": "display_data"
    }
   ],
   "source": [
    "plt.figure(figsize=(15,15))\n",
    "sns.heatmap(df.corr(method='spearman'),cbar=True,cmap=clmap,annot=True,vmin=0.85,vmax=1)"
   ]
  },
  {
   "cell_type": "code",
   "execution_count": 18,
   "metadata": {},
   "outputs": [
    {
     "data": {
      "text/plain": [
       "<AxesSubplot:title={'center':'Twinblade'}>"
      ]
     },
     "execution_count": 18,
     "metadata": {},
     "output_type": "execute_result"
    },
    {
     "data": {
      "image/png": "[encoded data removed]",
      "text/plain": [
       "<Figure size 1080x1080 with 2 Axes>"
      ]
     },
     "metadata": {},
     "output_type": "display_data"
    }
   ],
   "source": [
    "fig,ax = plt.subplots(figsize = (15,15))\n",
    "plt.title(\"Twinblade\",size = 22,weight = 'bold')\n",
    "da = df[df['Type']=='Twinblade'].iloc[:,:]\n",
    "sns.heatmap(da.corr(method='spearman').round(1),cbar=True,cmap=clmap,annot=True,vmin=0.5,vmax=1)"
   ]
  }
 ],
 "metadata": {
  "interpreter": {
   "hash": "412d554f732ec6471d90b3d92ed36a8eb790b484d91b3123d2c241bf5c8040bf"
  },
  "kernelspec": {
   "display_name": "Python 3.9.12 ('Winenv': venv)",
   "language": "python",
   "name": "python3"
  },
  "language_info": {
   "codemirror_mode": {
    "name": "ipython",
    "version": 3
   },
   "file_extension": ".py",
   "mimetype": "text/x-python",
   "name": "python",
   "nbconvert_exporter": "python",
   "pygments_lexer": "ipython3",
   "version": "3.9.12"
  },
  "orig_nbformat": 4
 },
 "nbformat": 4,
 "nbformat_minor": 2
}
