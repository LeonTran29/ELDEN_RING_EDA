{
 "cells": [
  {
   "cell_type": "markdown",
   "metadata": {},
   "source": []
  },
  {
   "cell_type": "code",
   "execution_count": 74,
   "metadata": {},
   "outputs": [],
   "source": [
    "import pandas as pd\n",
    "import numpy as np\n",
    "import matplotlib.pyplot as plt\n",
    "import seaborn as sns\n",
    "\n",
    "from IPython.display import display"
   ]
  },
  {
   "cell_type": "code",
   "execution_count": 75,
   "metadata": {},
   "outputs": [],
   "source": [
    "sns.set_style('whitegrid')\n",
    "clmap = 'flare'"
   ]
  },
  {
   "cell_type": "code",
   "execution_count": 76,
   "metadata": {},
   "outputs": [
    {
     "name": "stdout",
     "output_type": "stream",
     "text": [
      "Data: ----------------------------------------------------------------\n",
      "\n"
     ]
    },
    {
     "name": "stderr",
     "output_type": "stream",
     "text": [
      "C:\\Users\\huytr\\AppData\\Local\\Temp\\ipykernel_15960\\3275086397.py:3: FutureWarning: The default value of regex will change from True to False in a future version.\n",
      "  df.columns = df.columns.str.replace('.1','_Resist')\n"
     ]
    },
    {
     "data": {
      "text/html": [
       "<div>\n",
       "<style scoped>\n",
       "    .dataframe tbody tr th:only-of-type {\n",
       "        vertical-align: middle;\n",
       "    }\n",
       "\n",
       "    .dataframe tbody tr th {\n",
       "        vertical-align: top;\n",
       "    }\n",
       "\n",
       "    .dataframe thead th {\n",
       "        text-align: right;\n",
       "    }\n",
       "</style>\n",
       "<table border=\"1\" class=\"dataframe\">\n",
       "  <thead>\n",
       "    <tr style=\"text-align: right;\">\n",
       "      <th></th>\n",
       "      <th>Name</th>\n",
       "      <th>Type</th>\n",
       "      <th>Phy</th>\n",
       "      <th>Mag</th>\n",
       "      <th>Fir</th>\n",
       "      <th>Lit</th>\n",
       "      <th>Hol</th>\n",
       "      <th>Cri</th>\n",
       "      <th>Sta</th>\n",
       "      <th>Str</th>\n",
       "      <th>...</th>\n",
       "      <th>Any</th>\n",
       "      <th>Phy_Resist</th>\n",
       "      <th>Mag_Resist</th>\n",
       "      <th>Fir_Resist</th>\n",
       "      <th>Lit_Resist</th>\n",
       "      <th>Hol_Resist</th>\n",
       "      <th>Bst</th>\n",
       "      <th>Rst</th>\n",
       "      <th>Wgt</th>\n",
       "      <th>Upgrade</th>\n",
       "    </tr>\n",
       "  </thead>\n",
       "  <tbody>\n",
       "    <tr>\n",
       "      <th>0</th>\n",
       "      <td>Academy Glintstone Staff</td>\n",
       "      <td>Glintstone Staff</td>\n",
       "      <td>43</td>\n",
       "      <td>-</td>\n",
       "      <td>-</td>\n",
       "      <td>-</td>\n",
       "      <td>-</td>\n",
       "      <td>100</td>\n",
       "      <td>40</td>\n",
       "      <td>D</td>\n",
       "      <td>...</td>\n",
       "      <td>-</td>\n",
       "      <td>25</td>\n",
       "      <td>15</td>\n",
       "      <td>15</td>\n",
       "      <td>15</td>\n",
       "      <td>15</td>\n",
       "      <td>15</td>\n",
       "      <td>10</td>\n",
       "      <td>3.0</td>\n",
       "      <td>Smithing Stones</td>\n",
       "    </tr>\n",
       "    <tr>\n",
       "      <th>1</th>\n",
       "      <td>Alabaster Lord's Sword</td>\n",
       "      <td>Greatsword</td>\n",
       "      <td>313</td>\n",
       "      <td>93</td>\n",
       "      <td>-</td>\n",
       "      <td>-</td>\n",
       "      <td>-</td>\n",
       "      <td>100</td>\n",
       "      <td>126</td>\n",
       "      <td>B</td>\n",
       "      <td>...</td>\n",
       "      <td>-</td>\n",
       "      <td>56</td>\n",
       "      <td>33</td>\n",
       "      <td>27</td>\n",
       "      <td>27</td>\n",
       "      <td>27</td>\n",
       "      <td>39</td>\n",
       "      <td>19</td>\n",
       "      <td>8.0</td>\n",
       "      <td>Somber Smithing Stones</td>\n",
       "    </tr>\n",
       "    <tr>\n",
       "      <th>2</th>\n",
       "      <td>Albinauric Bow</td>\n",
       "      <td>Bow</td>\n",
       "      <td>200</td>\n",
       "      <td>-</td>\n",
       "      <td>-</td>\n",
       "      <td>-</td>\n",
       "      <td>-</td>\n",
       "      <td>100</td>\n",
       "      <td>60</td>\n",
       "      <td>E</td>\n",
       "      <td>...</td>\n",
       "      <td>-</td>\n",
       "      <td>-</td>\n",
       "      <td>-</td>\n",
       "      <td>-</td>\n",
       "      <td>-</td>\n",
       "      <td>-</td>\n",
       "      <td>-</td>\n",
       "      <td>-</td>\n",
       "      <td>4.5</td>\n",
       "      <td>Smithing Stones</td>\n",
       "    </tr>\n",
       "    <tr>\n",
       "      <th>3</th>\n",
       "      <td>Albinauric Staff</td>\n",
       "      <td>Glintstone Staff</td>\n",
       "      <td>29</td>\n",
       "      <td>-</td>\n",
       "      <td>-</td>\n",
       "      <td>-</td>\n",
       "      <td>-</td>\n",
       "      <td>100</td>\n",
       "      <td>38</td>\n",
       "      <td>D</td>\n",
       "      <td>...</td>\n",
       "      <td>-</td>\n",
       "      <td>23</td>\n",
       "      <td>14</td>\n",
       "      <td>14</td>\n",
       "      <td>14</td>\n",
       "      <td>14</td>\n",
       "      <td>14</td>\n",
       "      <td>9</td>\n",
       "      <td>2.5</td>\n",
       "      <td>Smithing Stones</td>\n",
       "    </tr>\n",
       "    <tr>\n",
       "      <th>4</th>\n",
       "      <td>Antspur Rapier</td>\n",
       "      <td>Thrusting Sword</td>\n",
       "      <td>240</td>\n",
       "      <td>-</td>\n",
       "      <td>-</td>\n",
       "      <td>-</td>\n",
       "      <td>-</td>\n",
       "      <td>100</td>\n",
       "      <td>62</td>\n",
       "      <td>D</td>\n",
       "      <td>...</td>\n",
       "      <td>(55)</td>\n",
       "      <td>47</td>\n",
       "      <td>31</td>\n",
       "      <td>31</td>\n",
       "      <td>31</td>\n",
       "      <td>31</td>\n",
       "      <td>25</td>\n",
       "      <td>10</td>\n",
       "      <td>3.0</td>\n",
       "      <td>Smithing Stones</td>\n",
       "    </tr>\n",
       "  </tbody>\n",
       "</table>\n",
       "<p>5 rows × 24 columns</p>\n",
       "</div>"
      ],
      "text/plain": [
       "                       Name              Type  Phy Mag Fir Lit Hol  Cri  Sta  \\\n",
       "0  Academy Glintstone Staff  Glintstone Staff   43   -   -   -   -  100   40   \n",
       "1    Alabaster Lord's Sword        Greatsword  313  93   -   -   -  100  126   \n",
       "2            Albinauric Bow               Bow  200   -   -   -   -  100   60   \n",
       "3          Albinauric Staff  Glintstone Staff   29   -   -   -   -  100   38   \n",
       "4            Antspur Rapier   Thrusting Sword  240   -   -   -   -  100   62   \n",
       "\n",
       "  Str  ...   Any Phy_Resist Mag_Resist Fir_Resist Lit_Resist Hol_Resist Bst  \\\n",
       "0   D  ...     -         25         15         15         15         15  15   \n",
       "1   B  ...     -         56         33         27         27         27  39   \n",
       "2   E  ...     -          -          -          -          -          -   -   \n",
       "3   D  ...     -         23         14         14         14         14  14   \n",
       "4   D  ...  (55)         47         31         31         31         31  25   \n",
       "\n",
       "  Rst  Wgt                 Upgrade  \n",
       "0  10  3.0         Smithing Stones  \n",
       "1  19  8.0  Somber Smithing Stones  \n",
       "2   -  4.5         Smithing Stones  \n",
       "3   9  2.5         Smithing Stones  \n",
       "4  10  3.0         Smithing Stones  \n",
       "\n",
       "[5 rows x 24 columns]"
      ]
     },
     "metadata": {},
     "output_type": "display_data"
    },
    {
     "name": "stdout",
     "output_type": "stream",
     "text": [
      "Index: ----------------------------------------------------------------\n",
      "\n"
     ]
    },
    {
     "data": {
      "text/plain": [
       "Index(['Name', 'Type', 'Phy', 'Mag', 'Fir', 'Lit', 'Hol', 'Cri', 'Sta', 'Str',\n",
       "       'Dex', 'Int', 'Fai', 'Arc', 'Any', 'Phy_Resist', 'Mag_Resist',\n",
       "       'Fir_Resist', 'Lit_Resist', 'Hol_Resist', 'Bst', 'Rst', 'Wgt',\n",
       "       'Upgrade'],\n",
       "      dtype='object')"
      ]
     },
     "metadata": {},
     "output_type": "display_data"
    },
    {
     "name": "stdout",
     "output_type": "stream",
     "text": [
      "Data Info: ----------------------------------------------------------------\n",
      "\n",
      "<class 'pandas.core.frame.DataFrame'>\n",
      "RangeIndex: 307 entries, 0 to 306\n",
      "Data columns (total 24 columns):\n",
      " #   Column      Non-Null Count  Dtype  \n",
      "---  ------      --------------  -----  \n",
      " 0   Name        307 non-null    object \n",
      " 1   Type        307 non-null    object \n",
      " 2   Phy         307 non-null    object \n",
      " 3   Mag         307 non-null    object \n",
      " 4   Fir         307 non-null    object \n",
      " 5   Lit         307 non-null    object \n",
      " 6   Hol         307 non-null    object \n",
      " 7   Cri         307 non-null    int64  \n",
      " 8   Sta         307 non-null    int64  \n",
      " 9   Str         307 non-null    object \n",
      " 10  Dex         307 non-null    object \n",
      " 11  Int         307 non-null    object \n",
      " 12  Fai         307 non-null    object \n",
      " 13  Arc         307 non-null    object \n",
      " 14  Any         307 non-null    object \n",
      " 15  Phy_Resist  307 non-null    object \n",
      " 16  Mag_Resist  307 non-null    object \n",
      " 17  Fir_Resist  307 non-null    object \n",
      " 18  Lit_Resist  307 non-null    object \n",
      " 19  Hol_Resist  307 non-null    object \n",
      " 20  Bst         307 non-null    object \n",
      " 21  Rst         307 non-null    object \n",
      " 22  Wgt         307 non-null    float64\n",
      " 23  Upgrade     307 non-null    object \n",
      "dtypes: float64(1), int64(2), object(21)\n",
      "memory usage: 57.7+ KB\n"
     ]
    },
    {
     "data": {
      "text/plain": [
       "None"
      ]
     },
     "metadata": {},
     "output_type": "display_data"
    },
    {
     "name": "stdout",
     "output_type": "stream",
     "text": [
      "Data Unique: ----------------------------------------------------------------\n",
      "\n"
     ]
    },
    {
     "data": {
      "text/plain": [
       "'Name:[\\'Academy Glintstone Staff\\' \"Alabaster Lord\\'s Sword\" \\'Albinauric Bow\\'\\n \\'Albinauric Staff\\' \\'Antspur Rapier\\' \\'Arbalest\\' \"Astrologer\\'s Staff\"\\n \\'Axe of Godfrey\\' \\'Axe of Godrick\\' \"Azur\\'s Glintstone Staff\"\\n \"Bandit\\'s Curved Sword\" \"Banished Knight\\'s Greatsword\"\\n \"Banished Knight\\'s Halberd\" \\'Bastard Sword\\' \"Bastard\\'s Stars\"\\n \\'Battle Axe\\' \\'Battle Hammer\\' \\'Beast-Repellent Torch\\'\\n \\'Beastclaw Greathammer\\' \"Beastman\\'s Cleaver\" \"Beastman\\'s Curved Sword\"\\n \\'Black Bow\\' \\'Black Knife\\' \\'Blade of Calling\\' \\'Blasphemous Blade\\'\\n \\'Bloodhound Claws\\' \"Bloodhound\\'s Fang\" \\'Bloodstained Dagger\\'\\n \\'Bloody Helice\\' \\'Bolt of Gransax\\' \\'Brick Hammer\\' \\'Broadsword\\'\\n \\'Butchering Knife\\' \\'Caestus\\' \\'Cane Sword\\' \\'Carian Glintblade Staff\\'\\n \\'Carian Glintstone Staff\\' \"Carian Knight\\'s Sword\" \\'Carian Regal Scepter\\'\\n \"Celebrant\\'s Cleaver\" \"Celebrant\\'s Rib-Rake\" \"Celebrant\\'s Sickle\"\\n \"Celebrant\\'s Skull\" \\'Chainlink Flail\\' \\'Cinquedea\\' \\'Cipher Pata\\'\\n \\'Clawmark Seal\\' \"Clayman\\'s Harpoon\" \\'Claymore\\' \"Cleanrot Knight\\'s Sword\"\\n \\'Cleanrot Spear\\' \\'Clinging Bone\\' \\'Club\\' \\'Coded Sword\\'\\n \"Commander\\'s Standard\" \\'Composite Bow\\' \\'Cranial Vessel Candlestand\\'\\n \"Crepus\\'s Black-Key Crossbow\" \\'Crescent Moon Axe\\' \\'Cross-Naginata\\'\\n \\'Crystal Knife\\' \\'Crystal Spear\\' \\'Crystal Staff\\' \\'Crystal Sword\\'\\n \\'Curved Club\\' \\'Curved Great Club\\' \\'Dagger\\' \\'Dark Moon Greatsword\\'\\n \\'Death Ritual Spear\\' \"Death\\'s Poker\" \"Demi-Human Queen\\'s Staff\"\\n \"Devourer\\'s Scepter\" \"Digger\\'s Staff\" \\'Dismounter\\'\\n \\'Dragon Communion Seal\\' \\'Dragon Greatclaw\\' \\'Dragon Halberd\\'\\n \"Dragon King\\'s Cragblade\" \\'Dragonscale Blade\\' \\'Duelist Greataxe\\'\\n \\'Eclipse Shotel\\' \"Eleonora\\'s Poleblade\" \"Envoy\\'s Greathorn\"\\n \"Envoy\\'s Horn\" \"Envoy\\'s Long Horn\" \\'Erdsteel Dagger\\' \\'Erdtree Bow\\'\\n \\'Erdtree Greatbow\\' \\'Erdtree Seal\\' \\'Estoc\\' \"Executioner\\'s Greataxe\"\\n \\'Falchion\\' \\'Fallingstar Beast Jaw\\' \\'Family Heads\\' \\'Finger Seal\\' \\'Flail\\'\\n \\'Flamberge\\' \\'Flowing Curved Sword\\' \\'Forked Greatsword\\' \\'Forked Hatchet\\'\\n \\'Frenzied Flame Seal\\' \\'Frozen Needle\\' \\'Full Moon Crossbow\\'\\n \"Gargoyle\\'s Black Axe\" \"Gargoyle\\'s Black Blades\"\\n \"Gargoyle\\'s Black Halberd\" \"Gargoyle\\'s Blackblade\" \"Gargoyle\\'s Great Axe\"\\n \"Gargoyle\\'s Greatsword\" \"Gargoyle\\'s Halberd\" \"Gargoyle\\'s Twinblade\"\\n \\'Gelmir Glintstone Staff\\' \"Ghiza\\'s Wheel\" \\'Ghostflame Torch\\'\\n \"Giant\\'s Red Braid\" \"Giant\\'s Seal\" \\'Giant-Crusher\\' \\'Glaive\\'\\n \\'Glintstone Kris\\' \\'Glintstone Staff\\' \\'Godskin Peeler\\' \\'Godskin Stitcher\\'\\n \"Godslayer\\'s Greatsword\" \"Godslayer\\'s Seal\" \\'Golden Epitaph\\'\\n \\'Golden Halberd\\' \\'Golden Order Greatsword\\' \\'Golden Order Seal\\'\\n \\'Golem Greatbow\\' \"Golem\\'s Halberd\" \\'Grafted Blade Greatsword\\'\\n \\'Grafted Dragon\\' \\'Grave Scythe\\' \\'Gravel Stone Seal\\' \\'Great Club\\'\\n \\'Great Knife\\' \\'Great Mace\\' \\'Great Omenkiller Cleaver\\' \\'Great Stars\\'\\n \\'Great epee\\' \\'Greataxe\\' \\'Greatbow\\' \\'Greathorn Hammer\\' \\'Greatsword\\'\\n \\'Grossmesser\\' \"Guardian\\'s Swordspear\" \\'Halberd\\' \\'Halo Scythe\\' \\'Hammer\\'\\n \\'Hand Axe\\' \\'Hand Ballista\\' \\'Hand of Malenia\\' \\'Harp Bow\\' \\'Heavy Crossbow\\'\\n \"Helphen\\'s Steeple\" \\'Highland Axe\\' \\'Hookclaws\\' \\'Horn Bow\\'\\n \"Hoslow\\'s Petal Whip\" \\'Icerind Hatchet\\' \"Inquisitor\\'s Girandole\"\\n \\'Inseparable Sword\\' \\'Iron Ball\\' \\'Iron Cleaver\\' \\'Iron Greatsword\\'\\n \\'Iron Spear\\' \\'Ivory Sickle\\' \\'Jar Cannon\\' \\'Jawbone Axe\\' \\'Katar\\'\\n \"Knight\\'s Greatsword\" \\'Lance\\' \\'Large Club\\' \\'Lazuli Glintstone Sword\\'\\n \\'Light Crossbow\\' \\'Lion Greatbow\\' \\'Longbow\\' \\'Longhaft Axe\\' \\'Longsword\\'\\n \"Lordsworn\\'s Greatsword\" \"Lordsworn\\'s Straight Sword\"\\n \"Loretta\\'s War Sickle\" \\'Lucerne\\' \"Lusat\\'s Glintstone Staff\" \\'Mace\\'\\n \\'Magma Blade\\' \\'Magma Whip Candlestick\\' \"Magma Wyrm\\'s Scalesword\"\\n \"Maliketh\\'s Black Blade\" \\'Mantis Blade\\' \"Marais Executioner\\'s Sword\"\\n \"Marika\\'s Hammer\" \\'Meteoric Ore Blade\\' \"Miquellan Knight\\'s Sword\"\\n \\'Misbegotten Shortbow\\' \\'Misericorde\\' \"Mohgwyn\\'s Sacred Spear\"\\n \"Monk\\'s Flameblade\" \"Monk\\'s Flamemace\" \\'Moonveil\\'\\n \"Morgott\\'s Cursed Sword\" \\'Morning Star\\' \\'Nagakiba\\' \\'Nightrider Flail\\'\\n \\'Nightrider Glaive\\' \"Noble\\'s Estoc\" \"Noble\\'s Slender Sword\"\\n \\'Nox Flowing Hammer\\' \\'Nox Flowing Sword\\' \\'Omen Cleaver\\'\\n \"Onyx Lord\\'s Greatsword\" \"Ordovis\\'s Greatsword\"\\n \\'Ornamental Straight Sword\\' \\'Parrying Dagger\\' \\'Partisan\\' \"Pest\\'s Glaive\"\\n \\'Pickaxe\\' \\'Pike\\' \"Prelate\\'s Inferno Crozier\" \"Prince of Death\\'s Staff\"\\n \\'Pulley Bow\\' \\'Pulley Crossbow\\' \\'Rapier\\' \\'Raptor Talons\\'\\n \\'Red Branch Shortbow\\' \\'Reduvia\\' \\'Regalia of Eochaid\\' \\'Ringed Finger\\'\\n \\'Ripple Blade\\' \\'Ripple Crescent Halberd\\' \\'Rivers of Blood\\'\\n \"Rogier\\'s Rapier\" \"Rosus\\' Axe\" \\'Rotten Battle Hammer\\'\\n \\'Rotten Crystal Spear\\' \\'Rotten Crystal Staff\\' \\'Rotten Crystal Sword\\'\\n \\'Rotten Greataxe\\' \\'Rotten Staff\\' \\'Royal Greatsword\\' \\'Ruins Greatsword\\'\\n \\'Rusted Anchor\\' \\'Sacred Relic Sword\\' \\'Sacrificial Axe\\'\\n \"Scavenger\\'s Curved Sword\" \\'Scepter of the All-Knowing\\' \\'Scimitar\\'\\n \"Scorpion\\'s Stinger\" \\'Scythe\\' \"Sentry\\'s Torch\" \\'Serpent Bow\\'\\n \"Serpent-God\\'s Curved Sword\" \\'Serpent-Hunter\\' \\'Serpentbone Blade\\'\\n \\'Shamshir\\' \\'Short Spear\\' \\'Short Sword\\' \\'Shortbow\\' \\'Shotel\\'\\n \"Siluria\\'s Tree\" \"Soldier\\'s Crossbow\" \\'Spear\\' \\'Spiked Caestus\\'\\n \\'Spiked Club\\' \\'Spiked Spear\\' \"St. Trina\\'s Torch\" \\'Staff of Loss\\'\\n \\'Staff of the Avatar\\' \\'Staff of the Guilty\\' \\'Star Fist\\'\\n \\'Starscourge Greatsword\\' \\'Steel-Wire Torch\\' \\'Stone Club\\' \\'Stormhawk Axe\\'\\n \\'Sword of Milos\\' \\'Sword of Night and Flame\\' \\'Sword of St. Trina\\'\\n \\'Thorned Whip\\' \\'Torch\\' \\'Torchpole\\' \\'Treespear\\' \"Troll Knight\\'s Sword\"\\n \"Troll\\'s Golden Sword\" \"Troll\\'s Hammer\" \\'Twinblade\\'\\n \\'Twinned Knight Swords\\' \\'Uchigatana\\' \\'Urumi\\' \"Varre\\'s Bouquet\"\\n \\'Venomous Fang\\' \"Veteran\\'s Prosthesis\" \\'Vulgar Militia Saw\\'\\n \\'Vulgar Militia Shotel\\' \"Vyke\\'s War Spear\" \\'Wakizashi\\' \"Warhawk\\'s Talon\"\\n \\'Warped Axe\\' \\'Warpick\\' \"Watchdog\\'s Greatsword\" \"Watchdog\\'s Staff\"\\n \\'Weathered Straight Sword\\' \\'Whip\\' \\'Wing of Astel\\' \\'Winged Greathorn\\'\\n \\'Winged Scythe\\' \\'Zamor Curved Sword\\' \\'Zweihander\\']'"
      ]
     },
     "metadata": {},
     "output_type": "display_data"
    },
    {
     "name": "stdout",
     "output_type": "stream",
     "text": [
      "\n",
      "\n"
     ]
    },
    {
     "data": {
      "text/plain": [
       "\"Type:['Glintstone Staff' 'Greatsword' 'Bow' 'Thrusting Sword' 'Crossbow'\\n 'Colossal Weapon' 'Greataxe' 'Curved Sword' 'Halberd' 'Flail' 'Axe'\\n 'Warhammer' 'Torch' 'Curved Greatsword' 'Dagger' 'Claw'\\n 'Heavy Thrusting Sword' 'Spear' 'Straight Sword' 'Fist' 'Sacred Seal'\\n 'Hammer' 'Light Bow' 'Katana' 'Twinblade' 'Greatbow' 'Whip'\\n 'Colossal Sword' 'Reaper' 'Ballista' 'Great Spear']\""
      ]
     },
     "metadata": {},
     "output_type": "display_data"
    },
    {
     "name": "stdout",
     "output_type": "stream",
     "text": [
      "\n",
      "\n"
     ]
    },
    {
     "data": {
      "text/plain": [
       "\"Phy:['43' '313' '200' '29' '240' '308' '404' '347' '58' '289' '306' '338'\\n '159' '301' '320' '142' '284' '350' '276' '171' '161' '173' '296' '230'\\n '345' '198' '298' '286' '328' '220' '235' '38' '215' '291' '267' '193'\\n '-' '54' '242' '249' '196' '252' '238' '357' '269' '75' '259' '279' '355'\\n '181' '274' '66' '61' '294' '330' '225' '416' '188' '176' '164' '98'\\n '147' '262' '367' '213' '316' '303' '247' '175' '245' '325' '50' '382'\\n '122' '379' '323' '139' '311' '208' '210' '318' '387' '396' '218' '352'\\n '377' '183' '369' '401' '281' '340' '600' '151' '288' '271' '365' '672'\\n '237' '260' '333' '257' '166' '178' '254' '146' '203' '186' '227' '102'\\n '360' '137' '264' '222' '124' '149' '132' '374' '112']\""
      ]
     },
     "metadata": {},
     "output_type": "display_data"
    },
    {
     "name": "stdout",
     "output_type": "stream",
     "text": [
      "\n",
      "\n"
     ]
    },
    {
     "data": {
      "text/plain": [
       "\"Mag:['-' '93' '191' '215' '156' '58' '129' '80' '166' '240' '88' '208' '137'\\n '175' '220' '247' '73' '147' '230' '173' '149' '176' '213' '186' '139'\\n '75' '161' '328' '90' '203' '78' '196']\""
      ]
     },
     "metadata": {},
     "output_type": "display_data"
    },
    {
     "name": "stdout",
     "output_type": "stream",
     "text": [
      "\n",
      "\n"
     ]
    },
    {
     "data": {
      "text/plain": [
       "\"Fir:['-' '254' '191' '240' '169' '176' '129' '188' '139' '161' '151' '181'\\n '186' '222' '267' '137' '237' '75' '110']\""
      ]
     },
     "metadata": {},
     "output_type": "display_data"
    },
    {
     "name": "stdout",
     "output_type": "stream",
     "text": [
      "\n",
      "\n"
     ]
    },
    {
     "data": {
      "text/plain": [
       "\"Lit:['-' '154' '191' '144' '129']\""
      ]
     },
     "metadata": {},
     "output_type": "display_data"
    },
    {
     "name": "stdout",
     "output_type": "stream",
     "text": [
      "\n",
      "\n"
     ]
    },
    {
     "data": {
      "text/plain": [
       "\"Hol:['-' '183' '159' '105' '208' '161' '188' '191' '151' '122' '36' '294'\\n '237' '301' '298' '213' '252' '186' '240' '200' '166' '169' '245' '220'\\n '178' '193' '254']\""
      ]
     },
     "metadata": {},
     "output_type": "display_data"
    },
    {
     "name": "stdout",
     "output_type": "stream",
     "text": [
      "\n",
      "\n"
     ]
    },
    {
     "data": {
      "text/plain": [
       "'Cri:[100 110 130 115 124 140]'"
      ]
     },
     "metadata": {},
     "output_type": "display_data"
    },
    {
     "name": "stdout",
     "output_type": "stream",
     "text": [
      "\n",
      "\n"
     ]
    },
    {
     "data": {
      "text/plain": [
       "'Sta:[ 40 126  60  38  62  68 150  42  98 132 122 106 112 194  94 182 164  56\\n 138  78  88 218 100  86  90  80  66 102  76 136 190  64 156  46  84 116\\n 154 202 172 180 118 152 184 104 224 128 120 134 160 200 168 114  72  92\\n 110 140  96  82 210 108 124 146 130]'"
      ]
     },
     "metadata": {},
     "output_type": "display_data"
    },
    {
     "name": "stdout",
     "output_type": "stream",
     "text": [
      "\n",
      "\n"
     ]
    },
    {
     "data": {
      "text/plain": [
       "\"Str:['D' 'B' 'E' '-' 'C' 'A' 'S']\""
      ]
     },
     "metadata": {},
     "output_type": "display_data"
    },
    {
     "name": "stdout",
     "output_type": "stream",
     "text": [
      "\n",
      "\n"
     ]
    },
    {
     "data": {
      "text/plain": [
       "\"Dex:['-' 'D' 'C' 'E' 'B']\""
      ]
     },
     "metadata": {},
     "output_type": "display_data"
    },
    {
     "name": "stdout",
     "output_type": "stream",
     "text": [
      "\n",
      "\n"
     ]
    },
    {
     "data": {
      "text/plain": [
       "\"Int:['S' 'D' '-' 'B' 'C' 'A' 'E']\""
      ]
     },
     "metadata": {},
     "output_type": "display_data"
    },
    {
     "name": "stdout",
     "output_type": "stream",
     "text": [
      "\n",
      "\n"
     ]
    },
    {
     "data": {
      "text/plain": [
       "\"Fai:['-' 'D' 'C' 'B' 'A' 'S']\""
      ]
     },
     "metadata": {},
     "output_type": "display_data"
    },
    {
     "name": "stdout",
     "output_type": "stream",
     "text": [
      "\n",
      "\n"
     ]
    },
    {
     "data": {
      "text/plain": [
       "\"Arc:['-' 'S' 'B' 'C' 'D']\""
      ]
     },
     "metadata": {},
     "output_type": "display_data"
    },
    {
     "name": "stdout",
     "output_type": "stream",
     "text": [
      "\n",
      "\n"
     ]
    },
    {
     "data": {
      "text/plain": [
       "\"Any:['-' '(55)' '(60)' '(38)' '(50)' '(65)' '(70)' '(45)' '(75)' '(66)' '(72)']\""
      ]
     },
     "metadata": {},
     "output_type": "display_data"
    },
    {
     "name": "stdout",
     "output_type": "stream",
     "text": [
      "\n",
      "\n"
     ]
    },
    {
     "data": {
      "text/plain": [
       "\"Phy_Resist:['25' '56' '-' '23' '47' '75' '65' '48' '68' '55' '32' '62' '81' '44' '26'\\n '31' '72' '38' '36' '57' '60' '74' '58' '35' '41' '40' '63' '43' '9' '49'\\n '51' '13' '64' '71' '52' '28' '45' '54' '66' '46' '78' '33' '70' '42'\\n '37' '61' '73' '21' '24' '88' '80' '27' '69' '84' '59' '30' '50' '53'\\n '82' '39' '76' '67']\""
      ]
     },
     "metadata": {},
     "output_type": "display_data"
    },
    {
     "name": "stdout",
     "output_type": "stream",
     "text": [
      "\n",
      "\n"
     ]
    },
    {
     "data": {
      "text/plain": [
       "\"Mag_Resist:['15' '33' '-' '14' '31' '45' '35' '36' '48' '17' '43' '18' '39' '22' '21'\\n '40' '20' '27' '52' '25' '34' '28' '38' '41' '37' '32' '44' '30' '63'\\n '42' '47' '23' '26' '55' '24' '12' '50' '29' '60' '49' '10' '57' '19'\\n '56' '46' '16']\""
      ]
     },
     "metadata": {},
     "output_type": "display_data"
    },
    {
     "name": "stdout",
     "output_type": "stream",
     "text": [
      "\n",
      "\n"
     ]
    },
    {
     "data": {
      "text/plain": [
       "\"Fir_Resist:['15' '27' '-' '14' '31' '45' '35' '36' '24' '28' '33' '43' '18' '54' '22'\\n '21' '40' '20' '26' '25' '34' '17' '41' '51' '32' '30' '37' '47' '38'\\n '42' '13' '52' '49' '48' '44' '50' '29' '39' '19' '23' '46' '16']\""
      ]
     },
     "metadata": {},
     "output_type": "display_data"
    },
    {
     "name": "stdout",
     "output_type": "stream",
     "text": [
      "\n",
      "\n"
     ]
    },
    {
     "data": {
      "text/plain": [
       "\"Lit_Resist:['15' '27' '-' '14' '31' '45' '35' '36' '24' '17' '33' '43' '18' '39' '22'\\n '21' '40' '47' '20' '26' '25' '34' '28' '41' '37' '32' '30' '52' '50'\\n '46' '23' '38' '42' '13' '12' '48' '29' '10' '49' '19' '44' '16']\""
      ]
     },
     "metadata": {},
     "output_type": "display_data"
    },
    {
     "name": "stdout",
     "output_type": "stream",
     "text": [
      "\n",
      "\n"
     ]
    },
    {
     "data": {
      "text/plain": [
       "\"Hol_Resist:['15' '27' '-' '14' '31' '45' '35' '36' '24' '17' '43' '33' '42' '30' '39'\\n '22' '21' '40' '20' '26' '25' '34' '28' '61' '38' '58' '41' '37' '32'\\n '18' '47' '50' '23' '55' '54' '59' '72' '66' '13' '12' '52' '56' '60'\\n '48' '10' '49' '44' '29' '19' '57' '46' '16']\""
      ]
     },
     "metadata": {},
     "output_type": "display_data"
    },
    {
     "name": "stdout",
     "output_type": "stream",
     "text": [
      "\n",
      "\n"
     ]
    },
    {
     "data": {
      "text/plain": [
       "\"Bst:['15' '39' '-' '14' '25' '50' '42' '36' '52' '20' '37' '22' '62' '32' '26'\\n '44' '18' '34' '40' '57' '24' '31' '48' '28' '19' '27' '33' '21' '49'\\n '46' '17' '47' '30' '55' '60' '38' '69' '45' '53' '56' '54' '67' '43'\\n '35' '66' '16' '51' '61' '23']\""
      ]
     },
     "metadata": {},
     "output_type": "display_data"
    },
    {
     "name": "stdout",
     "output_type": "stream",
     "text": [
      "\n",
      "\n"
     ]
    },
    {
     "data": {
      "text/plain": [
       "\"Rst:['10' '19' '-' '9' '25' '20' '12' '21' '15' '14' '11' '24' '17' '23' '18'\\n '13' '16' '26' '22' '29' '28' '27']\""
      ]
     },
     "metadata": {},
     "output_type": "display_data"
    },
    {
     "name": "stdout",
     "output_type": "stream",
     "text": [
      "\n",
      "\n"
     ]
    },
    {
     "data": {
      "text/plain": [
       "'Wgt:[ 3.   8.   4.5  2.5  6.  18.  11.   4.   5.  10.   9.   5.5 16.5  2.\\n  1.5 13.5 11.5  8.5 12.5  3.5  0.   6.5 16.  10.5 20.  19.5  9.5 15.\\n 21.5 12.  19.  26.5  7.  17.5 14.5 21.  17.  13.  23.   7.5 22.  23.5\\n 15.5]'"
      ]
     },
     "metadata": {},
     "output_type": "display_data"
    },
    {
     "name": "stdout",
     "output_type": "stream",
     "text": [
      "\n",
      "\n"
     ]
    },
    {
     "data": {
      "text/plain": [
       "\"Upgrade:['Smithing Stones' 'Somber Smithing Stones']\""
      ]
     },
     "metadata": {},
     "output_type": "display_data"
    },
    {
     "name": "stdout",
     "output_type": "stream",
     "text": [
      "\n",
      "\n"
     ]
    }
   ],
   "source": [
    "df = pd.read_csv('elden_ring_weapon.csv')\n",
    "cl = df.columns\n",
    "df.columns = df.columns.str.replace('.1','_Resist')\n",
    "cl = df.columns\n",
    "print('Data: ----------------------------------------------------------------\\n')\n",
    "display(df.head(5))\n",
    "print('Index: ----------------------------------------------------------------\\n')\n",
    "display(cl)\n",
    "print('Data Info: ----------------------------------------------------------------\\n')\n",
    "display(df.info())\n",
    "print('Data Unique: ----------------------------------------------------------------\\n')\n",
    "for col in df.columns:\n",
    "       display('{}:{}'.format(col,df[col].unique()))\n",
    "       print('\\n')"
   ]
  },
  {
   "cell_type": "code",
   "execution_count": 77,
   "metadata": {},
   "outputs": [
    {
     "name": "stdout",
     "output_type": "stream",
     "text": [
      "Percentage of null: ----------------------------------\n"
     ]
    },
    {
     "data": {
      "text/plain": [
       "Name           0.000000\n",
       "Wgt            0.000000\n",
       "Sta            0.000000\n",
       "Cri            0.000000\n",
       "Upgrade        0.000000\n",
       "Type           0.000000\n",
       "Phy            0.651466\n",
       "Str            5.211726\n",
       "Rst            8.143322\n",
       "Bst            8.143322\n",
       "Hol_Resist     8.143322\n",
       "Lit_Resist     8.143322\n",
       "Phy_Resist     8.143322\n",
       "Mag_Resist     8.143322\n",
       "Fir_Resist     8.143322\n",
       "Dex           14.332248\n",
       "Any           78.827362\n",
       "Fai           81.107492\n",
       "Int           83.387622\n",
       "Mag           87.947883\n",
       "Hol           89.576547\n",
       "Fir           93.159609\n",
       "Arc           95.114007\n",
       "Lit           98.697068\n",
       "dtype: float64"
      ]
     },
     "metadata": {},
     "output_type": "display_data"
    },
    {
     "name": "stdout",
     "output_type": "stream",
     "text": [
      "Heatmap of null: ----------------------------------\n"
     ]
    },
    {
     "data": {
      "text/plain": [
       "<AxesSubplot:>"
      ]
     },
     "execution_count": 77,
     "metadata": {},
     "output_type": "execute_result"
    },
    {
     "data": {
      "image/png": "[encoded data removed]",
      "text/plain": [
       "<Figure size 1800x720 with 1 Axes>"
      ]
     },
     "metadata": {},
     "output_type": "display_data"
    }
   ],
   "source": [
    "for col in df.columns:\n",
    "    df[col].replace({'-':np.nan},inplace=True)\n",
    "print('Percentage of null: ----------------------------------')\n",
    "display(df.isnull().sum().sort_values()*100/307)\n",
    "print('Heatmap of null: ----------------------------------')\n",
    "fig,ax = plt.subplots(figsize=(25,10))\n",
    "sns.heatmap(df.isnull(),cbar=False,cmap=clmap)"
   ]
  },
  {
   "cell_type": "code",
   "execution_count": 78,
   "metadata": {},
   "outputs": [],
   "source": [
    "cols = ['Phy', 'Mag', 'Fir', 'Lit', 'Hol', 'Cri', 'Sta',\n",
    "        'Phy_Resist', 'Mag_Resist','Fir_Resist', 'Lit_Resist', 'Hol_Resist', 'Bst', 'Rst', 'Wgt']\n",
    "for col in cols:\n",
    "        df[col].fillna(0,inplace=True)"
   ]
  },
  {
   "cell_type": "code",
   "execution_count": 80,
   "metadata": {},
   "outputs": [
    {
     "name": "stdout",
     "output_type": "stream",
     "text": [
      "<class 'pandas.core.frame.DataFrame'>\n",
      "RangeIndex: 307 entries, 0 to 306\n",
      "Data columns (total 24 columns):\n",
      " #   Column      Non-Null Count  Dtype  \n",
      "---  ------      --------------  -----  \n",
      " 0   Name        307 non-null    object \n",
      " 1   Type        307 non-null    object \n",
      " 2   Phy         307 non-null    int32  \n",
      " 3   Mag         307 non-null    int32  \n",
      " 4   Fir         307 non-null    int32  \n",
      " 5   Lit         307 non-null    int32  \n",
      " 6   Hol         307 non-null    int32  \n",
      " 7   Cri         307 non-null    int32  \n",
      " 8   Sta         307 non-null    int32  \n",
      " 9   Str         291 non-null    object \n",
      " 10  Dex         263 non-null    object \n",
      " 11  Int         51 non-null     object \n",
      " 12  Fai         58 non-null     object \n",
      " 13  Arc         15 non-null     object \n",
      " 14  Any         65 non-null     object \n",
      " 15  Phy_Resist  307 non-null    int32  \n",
      " 16  Mag_Resist  307 non-null    int32  \n",
      " 17  Fir_Resist  307 non-null    int32  \n",
      " 18  Lit_Resist  307 non-null    int32  \n",
      " 19  Hol_Resist  307 non-null    int32  \n",
      " 20  Bst         307 non-null    int32  \n",
      " 21  Rst         307 non-null    int32  \n",
      " 22  Wgt         307 non-null    float64\n",
      " 23  Upgrade     307 non-null    object \n",
      "dtypes: float64(1), int32(14), object(9)\n",
      "memory usage: 40.9+ KB\n"
     ]
    },
    {
     "data": {
      "text/plain": [
       "None"
      ]
     },
     "metadata": {},
     "output_type": "display_data"
    },
    {
     "ename": "ValueError",
     "evalue": "invalid literal for int() with base 10: '3.0'",
     "output_type": "error",
     "traceback": [
      "\u001b[1;31m---------------------------------------------------------------------------\u001b[0m",
      "\u001b[1;31mValueError\u001b[0m                                Traceback (most recent call last)",
      "\u001b[1;32mc:\\Users\\huytr\\OneDrive\\Programming\\Python\\Elder_Ring\\Test_P\\Elden_Wea_EDA copy 2.ipynb Cell 7'\u001b[0m in \u001b[0;36m<cell line: 2>\u001b[1;34m()\u001b[0m\n\u001b[0;32m      <a href='vscode-notebook-cell:/c%3A/Users/huytr/OneDrive/Programming/Python/Elder_Ring/Test_P/Elden_Wea_EDA%20copy%202.ipynb#ch0000006?line=0'>1</a>\u001b[0m display(df\u001b[39m.\u001b[39minfo())\n\u001b[0;32m      <a href='vscode-notebook-cell:/c%3A/Users/huytr/OneDrive/Programming/Python/Elder_Ring/Test_P/Elden_Wea_EDA%20copy%202.ipynb#ch0000006?line=1'>2</a>\u001b[0m \u001b[39mfor\u001b[39;00m col \u001b[39min\u001b[39;00m cols:\n\u001b[1;32m----> <a href='vscode-notebook-cell:/c%3A/Users/huytr/OneDrive/Programming/Python/Elder_Ring/Test_P/Elden_Wea_EDA%20copy%202.ipynb#ch0000006?line=2'>3</a>\u001b[0m     df[col] \u001b[39m=\u001b[39m df[col]\u001b[39m.\u001b[39;49mastype(\u001b[39m'\u001b[39;49m\u001b[39mstr\u001b[39;49m\u001b[39m'\u001b[39;49m)\u001b[39m.\u001b[39;49mastype(\u001b[39m'\u001b[39;49m\u001b[39mint\u001b[39;49m\u001b[39m'\u001b[39;49m)\n",
      "File \u001b[1;32mc:\\Users\\huytr\\OneDrive\\Programming\\Python\\Elder_Ring\\Test_P\\Winenv\\lib\\site-packages\\pandas\\core\\generic.py:5912\u001b[0m, in \u001b[0;36mNDFrame.astype\u001b[1;34m(self, dtype, copy, errors)\u001b[0m\n\u001b[0;32m   <a href='file:///c%3A/Users/huytr/OneDrive/Programming/Python/Elder_Ring/Test_P/Winenv/lib/site-packages/pandas/core/generic.py?line=5904'>5905</a>\u001b[0m     results \u001b[39m=\u001b[39m [\n\u001b[0;32m   <a href='file:///c%3A/Users/huytr/OneDrive/Programming/Python/Elder_Ring/Test_P/Winenv/lib/site-packages/pandas/core/generic.py?line=5905'>5906</a>\u001b[0m         \u001b[39mself\u001b[39m\u001b[39m.\u001b[39miloc[:, i]\u001b[39m.\u001b[39mastype(dtype, copy\u001b[39m=\u001b[39mcopy)\n\u001b[0;32m   <a href='file:///c%3A/Users/huytr/OneDrive/Programming/Python/Elder_Ring/Test_P/Winenv/lib/site-packages/pandas/core/generic.py?line=5906'>5907</a>\u001b[0m         \u001b[39mfor\u001b[39;00m i \u001b[39min\u001b[39;00m \u001b[39mrange\u001b[39m(\u001b[39mlen\u001b[39m(\u001b[39mself\u001b[39m\u001b[39m.\u001b[39mcolumns))\n\u001b[0;32m   <a href='file:///c%3A/Users/huytr/OneDrive/Programming/Python/Elder_Ring/Test_P/Winenv/lib/site-packages/pandas/core/generic.py?line=5907'>5908</a>\u001b[0m     ]\n\u001b[0;32m   <a href='file:///c%3A/Users/huytr/OneDrive/Programming/Python/Elder_Ring/Test_P/Winenv/lib/site-packages/pandas/core/generic.py?line=5909'>5910</a>\u001b[0m \u001b[39melse\u001b[39;00m:\n\u001b[0;32m   <a href='file:///c%3A/Users/huytr/OneDrive/Programming/Python/Elder_Ring/Test_P/Winenv/lib/site-packages/pandas/core/generic.py?line=5910'>5911</a>\u001b[0m     \u001b[39m# else, only a single dtype is given\u001b[39;00m\n\u001b[1;32m-> <a href='file:///c%3A/Users/huytr/OneDrive/Programming/Python/Elder_Ring/Test_P/Winenv/lib/site-packages/pandas/core/generic.py?line=5911'>5912</a>\u001b[0m     new_data \u001b[39m=\u001b[39m \u001b[39mself\u001b[39;49m\u001b[39m.\u001b[39;49m_mgr\u001b[39m.\u001b[39;49mastype(dtype\u001b[39m=\u001b[39;49mdtype, copy\u001b[39m=\u001b[39;49mcopy, errors\u001b[39m=\u001b[39;49merrors)\n\u001b[0;32m   <a href='file:///c%3A/Users/huytr/OneDrive/Programming/Python/Elder_Ring/Test_P/Winenv/lib/site-packages/pandas/core/generic.py?line=5912'>5913</a>\u001b[0m     \u001b[39mreturn\u001b[39;00m \u001b[39mself\u001b[39m\u001b[39m.\u001b[39m_constructor(new_data)\u001b[39m.\u001b[39m__finalize__(\u001b[39mself\u001b[39m, method\u001b[39m=\u001b[39m\u001b[39m\"\u001b[39m\u001b[39mastype\u001b[39m\u001b[39m\"\u001b[39m)\n\u001b[0;32m   <a href='file:///c%3A/Users/huytr/OneDrive/Programming/Python/Elder_Ring/Test_P/Winenv/lib/site-packages/pandas/core/generic.py?line=5914'>5915</a>\u001b[0m \u001b[39m# GH 33113: handle empty frame or series\u001b[39;00m\n",
      "File \u001b[1;32mc:\\Users\\huytr\\OneDrive\\Programming\\Python\\Elder_Ring\\Test_P\\Winenv\\lib\\site-packages\\pandas\\core\\internals\\managers.py:419\u001b[0m, in \u001b[0;36mBaseBlockManager.astype\u001b[1;34m(self, dtype, copy, errors)\u001b[0m\n\u001b[0;32m    <a href='file:///c%3A/Users/huytr/OneDrive/Programming/Python/Elder_Ring/Test_P/Winenv/lib/site-packages/pandas/core/internals/managers.py?line=417'>418</a>\u001b[0m \u001b[39mdef\u001b[39;00m \u001b[39mastype\u001b[39m(\u001b[39mself\u001b[39m: T, dtype, copy: \u001b[39mbool\u001b[39m \u001b[39m=\u001b[39m \u001b[39mFalse\u001b[39;00m, errors: \u001b[39mstr\u001b[39m \u001b[39m=\u001b[39m \u001b[39m\"\u001b[39m\u001b[39mraise\u001b[39m\u001b[39m\"\u001b[39m) \u001b[39m-\u001b[39m\u001b[39m>\u001b[39m T:\n\u001b[1;32m--> <a href='file:///c%3A/Users/huytr/OneDrive/Programming/Python/Elder_Ring/Test_P/Winenv/lib/site-packages/pandas/core/internals/managers.py?line=418'>419</a>\u001b[0m     \u001b[39mreturn\u001b[39;00m \u001b[39mself\u001b[39;49m\u001b[39m.\u001b[39;49mapply(\u001b[39m\"\u001b[39;49m\u001b[39mastype\u001b[39;49m\u001b[39m\"\u001b[39;49m, dtype\u001b[39m=\u001b[39;49mdtype, copy\u001b[39m=\u001b[39;49mcopy, errors\u001b[39m=\u001b[39;49merrors)\n",
      "File \u001b[1;32mc:\\Users\\huytr\\OneDrive\\Programming\\Python\\Elder_Ring\\Test_P\\Winenv\\lib\\site-packages\\pandas\\core\\internals\\managers.py:304\u001b[0m, in \u001b[0;36mBaseBlockManager.apply\u001b[1;34m(self, f, align_keys, ignore_failures, **kwargs)\u001b[0m\n\u001b[0;32m    <a href='file:///c%3A/Users/huytr/OneDrive/Programming/Python/Elder_Ring/Test_P/Winenv/lib/site-packages/pandas/core/internals/managers.py?line=301'>302</a>\u001b[0m         applied \u001b[39m=\u001b[39m b\u001b[39m.\u001b[39mapply(f, \u001b[39m*\u001b[39m\u001b[39m*\u001b[39mkwargs)\n\u001b[0;32m    <a href='file:///c%3A/Users/huytr/OneDrive/Programming/Python/Elder_Ring/Test_P/Winenv/lib/site-packages/pandas/core/internals/managers.py?line=302'>303</a>\u001b[0m     \u001b[39melse\u001b[39;00m:\n\u001b[1;32m--> <a href='file:///c%3A/Users/huytr/OneDrive/Programming/Python/Elder_Ring/Test_P/Winenv/lib/site-packages/pandas/core/internals/managers.py?line=303'>304</a>\u001b[0m         applied \u001b[39m=\u001b[39m \u001b[39mgetattr\u001b[39m(b, f)(\u001b[39m*\u001b[39m\u001b[39m*\u001b[39mkwargs)\n\u001b[0;32m    <a href='file:///c%3A/Users/huytr/OneDrive/Programming/Python/Elder_Ring/Test_P/Winenv/lib/site-packages/pandas/core/internals/managers.py?line=304'>305</a>\u001b[0m \u001b[39mexcept\u001b[39;00m (\u001b[39mTypeError\u001b[39;00m, \u001b[39mNotImplementedError\u001b[39;00m):\n\u001b[0;32m    <a href='file:///c%3A/Users/huytr/OneDrive/Programming/Python/Elder_Ring/Test_P/Winenv/lib/site-packages/pandas/core/internals/managers.py?line=305'>306</a>\u001b[0m     \u001b[39mif\u001b[39;00m \u001b[39mnot\u001b[39;00m ignore_failures:\n",
      "File \u001b[1;32mc:\\Users\\huytr\\OneDrive\\Programming\\Python\\Elder_Ring\\Test_P\\Winenv\\lib\\site-packages\\pandas\\core\\internals\\blocks.py:580\u001b[0m, in \u001b[0;36mBlock.astype\u001b[1;34m(self, dtype, copy, errors)\u001b[0m\n\u001b[0;32m    <a href='file:///c%3A/Users/huytr/OneDrive/Programming/Python/Elder_Ring/Test_P/Winenv/lib/site-packages/pandas/core/internals/blocks.py?line=561'>562</a>\u001b[0m \u001b[39m\"\"\"\u001b[39;00m\n\u001b[0;32m    <a href='file:///c%3A/Users/huytr/OneDrive/Programming/Python/Elder_Ring/Test_P/Winenv/lib/site-packages/pandas/core/internals/blocks.py?line=562'>563</a>\u001b[0m \u001b[39mCoerce to the new dtype.\u001b[39;00m\n\u001b[0;32m    <a href='file:///c%3A/Users/huytr/OneDrive/Programming/Python/Elder_Ring/Test_P/Winenv/lib/site-packages/pandas/core/internals/blocks.py?line=563'>564</a>\u001b[0m \n\u001b[1;32m   (...)\u001b[0m\n\u001b[0;32m    <a href='file:///c%3A/Users/huytr/OneDrive/Programming/Python/Elder_Ring/Test_P/Winenv/lib/site-packages/pandas/core/internals/blocks.py?line=575'>576</a>\u001b[0m \u001b[39mBlock\u001b[39;00m\n\u001b[0;32m    <a href='file:///c%3A/Users/huytr/OneDrive/Programming/Python/Elder_Ring/Test_P/Winenv/lib/site-packages/pandas/core/internals/blocks.py?line=576'>577</a>\u001b[0m \u001b[39m\"\"\"\u001b[39;00m\n\u001b[0;32m    <a href='file:///c%3A/Users/huytr/OneDrive/Programming/Python/Elder_Ring/Test_P/Winenv/lib/site-packages/pandas/core/internals/blocks.py?line=577'>578</a>\u001b[0m values \u001b[39m=\u001b[39m \u001b[39mself\u001b[39m\u001b[39m.\u001b[39mvalues\n\u001b[1;32m--> <a href='file:///c%3A/Users/huytr/OneDrive/Programming/Python/Elder_Ring/Test_P/Winenv/lib/site-packages/pandas/core/internals/blocks.py?line=579'>580</a>\u001b[0m new_values \u001b[39m=\u001b[39m astype_array_safe(values, dtype, copy\u001b[39m=\u001b[39;49mcopy, errors\u001b[39m=\u001b[39;49merrors)\n\u001b[0;32m    <a href='file:///c%3A/Users/huytr/OneDrive/Programming/Python/Elder_Ring/Test_P/Winenv/lib/site-packages/pandas/core/internals/blocks.py?line=581'>582</a>\u001b[0m new_values \u001b[39m=\u001b[39m maybe_coerce_values(new_values)\n\u001b[0;32m    <a href='file:///c%3A/Users/huytr/OneDrive/Programming/Python/Elder_Ring/Test_P/Winenv/lib/site-packages/pandas/core/internals/blocks.py?line=582'>583</a>\u001b[0m newb \u001b[39m=\u001b[39m \u001b[39mself\u001b[39m\u001b[39m.\u001b[39mmake_block(new_values)\n",
      "File \u001b[1;32mc:\\Users\\huytr\\OneDrive\\Programming\\Python\\Elder_Ring\\Test_P\\Winenv\\lib\\site-packages\\pandas\\core\\dtypes\\cast.py:1292\u001b[0m, in \u001b[0;36mastype_array_safe\u001b[1;34m(values, dtype, copy, errors)\u001b[0m\n\u001b[0;32m   <a href='file:///c%3A/Users/huytr/OneDrive/Programming/Python/Elder_Ring/Test_P/Winenv/lib/site-packages/pandas/core/dtypes/cast.py?line=1288'>1289</a>\u001b[0m     dtype \u001b[39m=\u001b[39m dtype\u001b[39m.\u001b[39mnumpy_dtype\n\u001b[0;32m   <a href='file:///c%3A/Users/huytr/OneDrive/Programming/Python/Elder_Ring/Test_P/Winenv/lib/site-packages/pandas/core/dtypes/cast.py?line=1290'>1291</a>\u001b[0m \u001b[39mtry\u001b[39;00m:\n\u001b[1;32m-> <a href='file:///c%3A/Users/huytr/OneDrive/Programming/Python/Elder_Ring/Test_P/Winenv/lib/site-packages/pandas/core/dtypes/cast.py?line=1291'>1292</a>\u001b[0m     new_values \u001b[39m=\u001b[39m astype_array(values, dtype, copy\u001b[39m=\u001b[39;49mcopy)\n\u001b[0;32m   <a href='file:///c%3A/Users/huytr/OneDrive/Programming/Python/Elder_Ring/Test_P/Winenv/lib/site-packages/pandas/core/dtypes/cast.py?line=1292'>1293</a>\u001b[0m \u001b[39mexcept\u001b[39;00m (\u001b[39mValueError\u001b[39;00m, \u001b[39mTypeError\u001b[39;00m):\n\u001b[0;32m   <a href='file:///c%3A/Users/huytr/OneDrive/Programming/Python/Elder_Ring/Test_P/Winenv/lib/site-packages/pandas/core/dtypes/cast.py?line=1293'>1294</a>\u001b[0m     \u001b[39m# e.g. astype_nansafe can fail on object-dtype of strings\u001b[39;00m\n\u001b[0;32m   <a href='file:///c%3A/Users/huytr/OneDrive/Programming/Python/Elder_Ring/Test_P/Winenv/lib/site-packages/pandas/core/dtypes/cast.py?line=1294'>1295</a>\u001b[0m     \u001b[39m#  trying to convert to float\u001b[39;00m\n\u001b[0;32m   <a href='file:///c%3A/Users/huytr/OneDrive/Programming/Python/Elder_Ring/Test_P/Winenv/lib/site-packages/pandas/core/dtypes/cast.py?line=1295'>1296</a>\u001b[0m     \u001b[39mif\u001b[39;00m errors \u001b[39m==\u001b[39m \u001b[39m\"\u001b[39m\u001b[39mignore\u001b[39m\u001b[39m\"\u001b[39m:\n",
      "File \u001b[1;32mc:\\Users\\huytr\\OneDrive\\Programming\\Python\\Elder_Ring\\Test_P\\Winenv\\lib\\site-packages\\pandas\\core\\dtypes\\cast.py:1237\u001b[0m, in \u001b[0;36mastype_array\u001b[1;34m(values, dtype, copy)\u001b[0m\n\u001b[0;32m   <a href='file:///c%3A/Users/huytr/OneDrive/Programming/Python/Elder_Ring/Test_P/Winenv/lib/site-packages/pandas/core/dtypes/cast.py?line=1233'>1234</a>\u001b[0m     values \u001b[39m=\u001b[39m values\u001b[39m.\u001b[39mastype(dtype, copy\u001b[39m=\u001b[39mcopy)\n\u001b[0;32m   <a href='file:///c%3A/Users/huytr/OneDrive/Programming/Python/Elder_Ring/Test_P/Winenv/lib/site-packages/pandas/core/dtypes/cast.py?line=1235'>1236</a>\u001b[0m \u001b[39melse\u001b[39;00m:\n\u001b[1;32m-> <a href='file:///c%3A/Users/huytr/OneDrive/Programming/Python/Elder_Ring/Test_P/Winenv/lib/site-packages/pandas/core/dtypes/cast.py?line=1236'>1237</a>\u001b[0m     values \u001b[39m=\u001b[39m astype_nansafe(values, dtype, copy\u001b[39m=\u001b[39;49mcopy)\n\u001b[0;32m   <a href='file:///c%3A/Users/huytr/OneDrive/Programming/Python/Elder_Ring/Test_P/Winenv/lib/site-packages/pandas/core/dtypes/cast.py?line=1238'>1239</a>\u001b[0m \u001b[39m# in pandas we don't store numpy str dtypes, so convert to object\u001b[39;00m\n\u001b[0;32m   <a href='file:///c%3A/Users/huytr/OneDrive/Programming/Python/Elder_Ring/Test_P/Winenv/lib/site-packages/pandas/core/dtypes/cast.py?line=1239'>1240</a>\u001b[0m \u001b[39mif\u001b[39;00m \u001b[39misinstance\u001b[39m(dtype, np\u001b[39m.\u001b[39mdtype) \u001b[39mand\u001b[39;00m \u001b[39missubclass\u001b[39m(values\u001b[39m.\u001b[39mdtype\u001b[39m.\u001b[39mtype, \u001b[39mstr\u001b[39m):\n",
      "File \u001b[1;32mc:\\Users\\huytr\\OneDrive\\Programming\\Python\\Elder_Ring\\Test_P\\Winenv\\lib\\site-packages\\pandas\\core\\dtypes\\cast.py:1154\u001b[0m, in \u001b[0;36mastype_nansafe\u001b[1;34m(arr, dtype, copy, skipna)\u001b[0m\n\u001b[0;32m   <a href='file:///c%3A/Users/huytr/OneDrive/Programming/Python/Elder_Ring/Test_P/Winenv/lib/site-packages/pandas/core/dtypes/cast.py?line=1149'>1150</a>\u001b[0m \u001b[39melif\u001b[39;00m is_object_dtype(arr\u001b[39m.\u001b[39mdtype):\n\u001b[0;32m   <a href='file:///c%3A/Users/huytr/OneDrive/Programming/Python/Elder_Ring/Test_P/Winenv/lib/site-packages/pandas/core/dtypes/cast.py?line=1150'>1151</a>\u001b[0m \n\u001b[0;32m   <a href='file:///c%3A/Users/huytr/OneDrive/Programming/Python/Elder_Ring/Test_P/Winenv/lib/site-packages/pandas/core/dtypes/cast.py?line=1151'>1152</a>\u001b[0m     \u001b[39m# work around NumPy brokenness, #1987\u001b[39;00m\n\u001b[0;32m   <a href='file:///c%3A/Users/huytr/OneDrive/Programming/Python/Elder_Ring/Test_P/Winenv/lib/site-packages/pandas/core/dtypes/cast.py?line=1152'>1153</a>\u001b[0m     \u001b[39mif\u001b[39;00m np\u001b[39m.\u001b[39missubdtype(dtype\u001b[39m.\u001b[39mtype, np\u001b[39m.\u001b[39minteger):\n\u001b[1;32m-> <a href='file:///c%3A/Users/huytr/OneDrive/Programming/Python/Elder_Ring/Test_P/Winenv/lib/site-packages/pandas/core/dtypes/cast.py?line=1153'>1154</a>\u001b[0m         \u001b[39mreturn\u001b[39;00m lib\u001b[39m.\u001b[39;49mastype_intsafe(arr, dtype)\n\u001b[0;32m   <a href='file:///c%3A/Users/huytr/OneDrive/Programming/Python/Elder_Ring/Test_P/Winenv/lib/site-packages/pandas/core/dtypes/cast.py?line=1155'>1156</a>\u001b[0m     \u001b[39m# if we have a datetime/timedelta array of objects\u001b[39;00m\n\u001b[0;32m   <a href='file:///c%3A/Users/huytr/OneDrive/Programming/Python/Elder_Ring/Test_P/Winenv/lib/site-packages/pandas/core/dtypes/cast.py?line=1156'>1157</a>\u001b[0m     \u001b[39m# then coerce to a proper dtype and recall astype_nansafe\u001b[39;00m\n\u001b[0;32m   <a href='file:///c%3A/Users/huytr/OneDrive/Programming/Python/Elder_Ring/Test_P/Winenv/lib/site-packages/pandas/core/dtypes/cast.py?line=1158'>1159</a>\u001b[0m     \u001b[39melif\u001b[39;00m is_datetime64_dtype(dtype):\n",
      "File \u001b[1;32mc:\\Users\\huytr\\OneDrive\\Programming\\Python\\Elder_Ring\\Test_P\\Winenv\\lib\\site-packages\\pandas\\_libs\\lib.pyx:668\u001b[0m, in \u001b[0;36mpandas._libs.lib.astype_intsafe\u001b[1;34m()\u001b[0m\n",
      "\u001b[1;31mValueError\u001b[0m: invalid literal for int() with base 10: '3.0'"
     ]
    }
   ],
   "source": [
    "display(df.info())\n",
    "for col in cols:\n",
    "    df[col] = df[col].astype('str').astype('int')"
   ]
  },
  {
   "cell_type": "code",
   "execution_count": 8,
   "metadata": {},
   "outputs": [
    {
     "data": {
      "text/plain": [
       "<AxesSubplot:>"
      ]
     },
     "execution_count": 8,
     "metadata": {},
     "output_type": "execute_result"
    },
    {
     "data": {
      "image/png": "[encoded data removed]",
      "text/plain": [
       "<Figure size 1080x1080 with 2 Axes>"
      ]
     },
     "metadata": {
      "needs_background": "light"
     },
     "output_type": "display_data"
    }
   ],
   "source": [
    "plt.figure(figsize=(15,15))\n",
    "sns.heatmap(df.corr(method='spearman'),cbar=True,cmap=clmap,annot=True,vmin=0.85,vmax=1)"
   ]
  },
  {
   "cell_type": "code",
   "execution_count": 9,
   "metadata": {},
   "outputs": [
    {
     "data": {
      "text/plain": [
       "<AxesSubplot:title={'center':'Twinblade'}>"
      ]
     },
     "execution_count": 9,
     "metadata": {},
     "output_type": "execute_result"
    },
    {
     "data": {
      "image/png": "[encoded data removed]",
      "text/plain": [
       "<Figure size 1080x1080 with 2 Axes>"
      ]
     },
     "metadata": {
      "needs_background": "light"
     },
     "output_type": "display_data"
    }
   ],
   "source": [
    "fig,ax = plt.subplots(figsize = (15,15))\n",
    "plt.title(\"Twinblade\",size = 22,weight = 'bold')\n",
    "da = df[df['Type']=='Twinblade'].iloc[:,:]\n",
    "sns.heatmap(da.corr(method='spearman').round(1),cbar=True,cmap=clmap,annot=True,vmin=0.5,vmax=1)"
   ]
  },
  {
   "cell_type": "code",
   "execution_count": 14,
   "metadata": {},
   "outputs": [
    {
     "data": {
      "text/html": [
       "<div>\n",
       "<style scoped>\n",
       "    .dataframe tbody tr th:only-of-type {\n",
       "        vertical-align: middle;\n",
       "    }\n",
       "\n",
       "    .dataframe tbody tr th {\n",
       "        vertical-align: top;\n",
       "    }\n",
       "\n",
       "    .dataframe thead th {\n",
       "        text-align: right;\n",
       "    }\n",
       "</style>\n",
       "<table border=\"1\" class=\"dataframe\">\n",
       "  <thead>\n",
       "    <tr style=\"text-align: right;\">\n",
       "      <th></th>\n",
       "      <th>Type</th>\n",
       "      <th>Phy</th>\n",
       "      <th>Mag</th>\n",
       "      <th>Fir</th>\n",
       "      <th>Lit</th>\n",
       "      <th>Hol</th>\n",
       "      <th>Cri</th>\n",
       "      <th>Sta</th>\n",
       "      <th>Phy_Resist</th>\n",
       "      <th>Mag_Resist</th>\n",
       "      <th>Fir_Resist</th>\n",
       "      <th>Lit_Resist</th>\n",
       "      <th>Hol_Resist</th>\n",
       "      <th>Bst</th>\n",
       "      <th>Rst</th>\n",
       "      <th>Wgt</th>\n",
       "    </tr>\n",
       "  </thead>\n",
       "  <tbody>\n",
       "    <tr>\n",
       "      <th>0</th>\n",
       "      <td>Glintstone Staff</td>\n",
       "      <td>43</td>\n",
       "      <td>0</td>\n",
       "      <td>0</td>\n",
       "      <td>0</td>\n",
       "      <td>0</td>\n",
       "      <td>100</td>\n",
       "      <td>40</td>\n",
       "      <td>25</td>\n",
       "      <td>15</td>\n",
       "      <td>15</td>\n",
       "      <td>15</td>\n",
       "      <td>15</td>\n",
       "      <td>15</td>\n",
       "      <td>10</td>\n",
       "      <td>3.0</td>\n",
       "    </tr>\n",
       "    <tr>\n",
       "      <th>1</th>\n",
       "      <td>Greatsword</td>\n",
       "      <td>313</td>\n",
       "      <td>93</td>\n",
       "      <td>0</td>\n",
       "      <td>0</td>\n",
       "      <td>0</td>\n",
       "      <td>100</td>\n",
       "      <td>126</td>\n",
       "      <td>56</td>\n",
       "      <td>33</td>\n",
       "      <td>27</td>\n",
       "      <td>27</td>\n",
       "      <td>27</td>\n",
       "      <td>39</td>\n",
       "      <td>19</td>\n",
       "      <td>8.0</td>\n",
       "    </tr>\n",
       "    <tr>\n",
       "      <th>2</th>\n",
       "      <td>Bow</td>\n",
       "      <td>200</td>\n",
       "      <td>0</td>\n",
       "      <td>0</td>\n",
       "      <td>0</td>\n",
       "      <td>0</td>\n",
       "      <td>100</td>\n",
       "      <td>60</td>\n",
       "      <td>0</td>\n",
       "      <td>0</td>\n",
       "      <td>0</td>\n",
       "      <td>0</td>\n",
       "      <td>0</td>\n",
       "      <td>0</td>\n",
       "      <td>0</td>\n",
       "      <td>4.5</td>\n",
       "    </tr>\n",
       "    <tr>\n",
       "      <th>3</th>\n",
       "      <td>Glintstone Staff</td>\n",
       "      <td>29</td>\n",
       "      <td>0</td>\n",
       "      <td>0</td>\n",
       "      <td>0</td>\n",
       "      <td>0</td>\n",
       "      <td>100</td>\n",
       "      <td>38</td>\n",
       "      <td>23</td>\n",
       "      <td>14</td>\n",
       "      <td>14</td>\n",
       "      <td>14</td>\n",
       "      <td>14</td>\n",
       "      <td>14</td>\n",
       "      <td>9</td>\n",
       "      <td>2.5</td>\n",
       "    </tr>\n",
       "    <tr>\n",
       "      <th>4</th>\n",
       "      <td>Thrusting Sword</td>\n",
       "      <td>240</td>\n",
       "      <td>0</td>\n",
       "      <td>0</td>\n",
       "      <td>0</td>\n",
       "      <td>0</td>\n",
       "      <td>100</td>\n",
       "      <td>62</td>\n",
       "      <td>47</td>\n",
       "      <td>31</td>\n",
       "      <td>31</td>\n",
       "      <td>31</td>\n",
       "      <td>31</td>\n",
       "      <td>25</td>\n",
       "      <td>10</td>\n",
       "      <td>3.0</td>\n",
       "    </tr>\n",
       "    <tr>\n",
       "      <th>...</th>\n",
       "      <td>...</td>\n",
       "      <td>...</td>\n",
       "      <td>...</td>\n",
       "      <td>...</td>\n",
       "      <td>...</td>\n",
       "      <td>...</td>\n",
       "      <td>...</td>\n",
       "      <td>...</td>\n",
       "      <td>...</td>\n",
       "      <td>...</td>\n",
       "      <td>...</td>\n",
       "      <td>...</td>\n",
       "      <td>...</td>\n",
       "      <td>...</td>\n",
       "      <td>...</td>\n",
       "      <td>...</td>\n",
       "    </tr>\n",
       "    <tr>\n",
       "      <th>302</th>\n",
       "      <td>Curved Sword</td>\n",
       "      <td>159</td>\n",
       "      <td>191</td>\n",
       "      <td>0</td>\n",
       "      <td>0</td>\n",
       "      <td>0</td>\n",
       "      <td>100</td>\n",
       "      <td>84</td>\n",
       "      <td>28</td>\n",
       "      <td>52</td>\n",
       "      <td>23</td>\n",
       "      <td>23</td>\n",
       "      <td>23</td>\n",
       "      <td>23</td>\n",
       "      <td>9</td>\n",
       "      <td>2.5</td>\n",
       "    </tr>\n",
       "    <tr>\n",
       "      <th>303</th>\n",
       "      <td>Greataxe</td>\n",
       "      <td>318</td>\n",
       "      <td>0</td>\n",
       "      <td>0</td>\n",
       "      <td>0</td>\n",
       "      <td>0</td>\n",
       "      <td>100</td>\n",
       "      <td>150</td>\n",
       "      <td>65</td>\n",
       "      <td>35</td>\n",
       "      <td>35</td>\n",
       "      <td>35</td>\n",
       "      <td>35</td>\n",
       "      <td>42</td>\n",
       "      <td>20</td>\n",
       "      <td>11.0</td>\n",
       "    </tr>\n",
       "    <tr>\n",
       "      <th>304</th>\n",
       "      <td>Reaper</td>\n",
       "      <td>213</td>\n",
       "      <td>0</td>\n",
       "      <td>0</td>\n",
       "      <td>0</td>\n",
       "      <td>254</td>\n",
       "      <td>100</td>\n",
       "      <td>110</td>\n",
       "      <td>30</td>\n",
       "      <td>25</td>\n",
       "      <td>25</td>\n",
       "      <td>25</td>\n",
       "      <td>55</td>\n",
       "      <td>30</td>\n",
       "      <td>15</td>\n",
       "      <td>7.5</td>\n",
       "    </tr>\n",
       "    <tr>\n",
       "      <th>305</th>\n",
       "      <td>Curved Greatsword</td>\n",
       "      <td>306</td>\n",
       "      <td>0</td>\n",
       "      <td>0</td>\n",
       "      <td>0</td>\n",
       "      <td>0</td>\n",
       "      <td>100</td>\n",
       "      <td>128</td>\n",
       "      <td>61</td>\n",
       "      <td>33</td>\n",
       "      <td>33</td>\n",
       "      <td>33</td>\n",
       "      <td>33</td>\n",
       "      <td>39</td>\n",
       "      <td>19</td>\n",
       "      <td>9.0</td>\n",
       "    </tr>\n",
       "    <tr>\n",
       "      <th>306</th>\n",
       "      <td>Colossal Sword</td>\n",
       "      <td>345</td>\n",
       "      <td>0</td>\n",
       "      <td>0</td>\n",
       "      <td>0</td>\n",
       "      <td>0</td>\n",
       "      <td>100</td>\n",
       "      <td>126</td>\n",
       "      <td>67</td>\n",
       "      <td>40</td>\n",
       "      <td>40</td>\n",
       "      <td>40</td>\n",
       "      <td>40</td>\n",
       "      <td>54</td>\n",
       "      <td>22</td>\n",
       "      <td>15.5</td>\n",
       "    </tr>\n",
       "  </tbody>\n",
       "</table>\n",
       "<p>307 rows × 16 columns</p>\n",
       "</div>"
      ],
      "text/plain": [
       "                  Type  Phy  Mag  Fir  Lit  Hol  Cri  Sta  Phy_Resist  \\\n",
       "0     Glintstone Staff   43    0    0    0    0  100   40          25   \n",
       "1           Greatsword  313   93    0    0    0  100  126          56   \n",
       "2                  Bow  200    0    0    0    0  100   60           0   \n",
       "3     Glintstone Staff   29    0    0    0    0  100   38          23   \n",
       "4      Thrusting Sword  240    0    0    0    0  100   62          47   \n",
       "..                 ...  ...  ...  ...  ...  ...  ...  ...         ...   \n",
       "302       Curved Sword  159  191    0    0    0  100   84          28   \n",
       "303           Greataxe  318    0    0    0    0  100  150          65   \n",
       "304             Reaper  213    0    0    0  254  100  110          30   \n",
       "305  Curved Greatsword  306    0    0    0    0  100  128          61   \n",
       "306     Colossal Sword  345    0    0    0    0  100  126          67   \n",
       "\n",
       "     Mag_Resist  Fir_Resist  Lit_Resist  Hol_Resist  Bst  Rst   Wgt  \n",
       "0            15          15          15          15   15   10   3.0  \n",
       "1            33          27          27          27   39   19   8.0  \n",
       "2             0           0           0           0    0    0   4.5  \n",
       "3            14          14          14          14   14    9   2.5  \n",
       "4            31          31          31          31   25   10   3.0  \n",
       "..          ...         ...         ...         ...  ...  ...   ...  \n",
       "302          52          23          23          23   23    9   2.5  \n",
       "303          35          35          35          35   42   20  11.0  \n",
       "304          25          25          25          55   30   15   7.5  \n",
       "305          33          33          33          33   39   19   9.0  \n",
       "306          40          40          40          40   54   22  15.5  \n",
       "\n",
       "[307 rows x 16 columns]"
      ]
     },
     "metadata": {},
     "output_type": "display_data"
    }
   ],
   "source": [
    "da = df.iloc[:,:]\n",
    "da = da.drop(['Name','Str','Dex', 'Int', 'Fai', 'Arc', 'Any','Upgrade'],axis=1)\n",
    "display(da)"
   ]
  },
  {
   "cell_type": "code",
   "execution_count": 24,
   "metadata": {},
   "outputs": [
    {
     "data": {
      "text/plain": [
       "Type                        \n",
       "Glintstone Staff  Phy           43.0\n",
       "                  Mag            0.0\n",
       "                  Fir            0.0\n",
       "                  Lit            0.0\n",
       "                  Hol            0.0\n",
       "                                ... \n",
       "Colossal Sword    Lit_Resist    40.0\n",
       "                  Hol_Resist    40.0\n",
       "                  Bst           54.0\n",
       "                  Rst           22.0\n",
       "                  Wgt           15.5\n",
       "Length: 4605, dtype: float64"
      ]
     },
     "metadata": {},
     "output_type": "display_data"
    },
    {
     "ename": "ValueError",
     "evalue": "Index contains duplicate entries, cannot reshape",
     "output_type": "error",
     "traceback": [
      "\u001b[1;31m---------------------------------------------------------------------------\u001b[0m",
      "\u001b[1;31mValueError\u001b[0m                                Traceback (most recent call last)",
      "\u001b[1;32mc:\\Users\\huytr\\OneDrive\\Programming\\Python\\Elder_Ring\\Test_P\\Elden_Wea_EDA copy 2.ipynb Cell 11'\u001b[0m in \u001b[0;36m<cell line: 3>\u001b[1;34m()\u001b[0m\n\u001b[0;32m      <a href='vscode-notebook-cell:/c%3A/Users/huytr/OneDrive/Programming/Python/Elder_Ring/Test_P/Elden_Wea_EDA%20copy%202.ipynb#ch0000011?line=0'>1</a>\u001b[0m dp \u001b[39m=\u001b[39m da\u001b[39m.\u001b[39mset_index(\u001b[39m'\u001b[39m\u001b[39mType\u001b[39m\u001b[39m'\u001b[39m)\u001b[39m.\u001b[39mstack()\n\u001b[0;32m      <a href='vscode-notebook-cell:/c%3A/Users/huytr/OneDrive/Programming/Python/Elder_Ring/Test_P/Elden_Wea_EDA%20copy%202.ipynb#ch0000011?line=1'>2</a>\u001b[0m display(dp)\n\u001b[1;32m----> <a href='vscode-notebook-cell:/c%3A/Users/huytr/OneDrive/Programming/Python/Elder_Ring/Test_P/Elden_Wea_EDA%20copy%202.ipynb#ch0000011?line=2'>3</a>\u001b[0m do \u001b[39m=\u001b[39m dp\u001b[39m.\u001b[39;49munstack()\n",
      "File \u001b[1;32mc:\\Users\\huytr\\OneDrive\\Programming\\Python\\Elder_Ring\\Test_P\\Winenv\\lib\\site-packages\\pandas\\core\\series.py:4157\u001b[0m, in \u001b[0;36mSeries.unstack\u001b[1;34m(self, level, fill_value)\u001b[0m\n\u001b[0;32m   <a href='file:///c%3A/Users/huytr/OneDrive/Programming/Python/Elder_Ring/Test_P/Winenv/lib/site-packages/pandas/core/series.py?line=4113'>4114</a>\u001b[0m \u001b[39m\"\"\"\u001b[39;00m\n\u001b[0;32m   <a href='file:///c%3A/Users/huytr/OneDrive/Programming/Python/Elder_Ring/Test_P/Winenv/lib/site-packages/pandas/core/series.py?line=4114'>4115</a>\u001b[0m \u001b[39mUnstack, also known as pivot, Series with MultiIndex to produce DataFrame.\u001b[39;00m\n\u001b[0;32m   <a href='file:///c%3A/Users/huytr/OneDrive/Programming/Python/Elder_Ring/Test_P/Winenv/lib/site-packages/pandas/core/series.py?line=4115'>4116</a>\u001b[0m \n\u001b[1;32m   (...)\u001b[0m\n\u001b[0;32m   <a href='file:///c%3A/Users/huytr/OneDrive/Programming/Python/Elder_Ring/Test_P/Winenv/lib/site-packages/pandas/core/series.py?line=4152'>4153</a>\u001b[0m \u001b[39mb    2    4\u001b[39;00m\n\u001b[0;32m   <a href='file:///c%3A/Users/huytr/OneDrive/Programming/Python/Elder_Ring/Test_P/Winenv/lib/site-packages/pandas/core/series.py?line=4153'>4154</a>\u001b[0m \u001b[39m\"\"\"\u001b[39;00m\n\u001b[0;32m   <a href='file:///c%3A/Users/huytr/OneDrive/Programming/Python/Elder_Ring/Test_P/Winenv/lib/site-packages/pandas/core/series.py?line=4154'>4155</a>\u001b[0m \u001b[39mfrom\u001b[39;00m \u001b[39mpandas\u001b[39;00m\u001b[39m.\u001b[39;00m\u001b[39mcore\u001b[39;00m\u001b[39m.\u001b[39;00m\u001b[39mreshape\u001b[39;00m\u001b[39m.\u001b[39;00m\u001b[39mreshape\u001b[39;00m \u001b[39mimport\u001b[39;00m unstack\n\u001b[1;32m-> <a href='file:///c%3A/Users/huytr/OneDrive/Programming/Python/Elder_Ring/Test_P/Winenv/lib/site-packages/pandas/core/series.py?line=4156'>4157</a>\u001b[0m \u001b[39mreturn\u001b[39;00m unstack(\u001b[39mself\u001b[39;49m, level, fill_value)\n",
      "File \u001b[1;32mc:\\Users\\huytr\\OneDrive\\Programming\\Python\\Elder_Ring\\Test_P\\Winenv\\lib\\site-packages\\pandas\\core\\reshape\\reshape.py:491\u001b[0m, in \u001b[0;36munstack\u001b[1;34m(obj, level, fill_value)\u001b[0m\n\u001b[0;32m    <a href='file:///c%3A/Users/huytr/OneDrive/Programming/Python/Elder_Ring/Test_P/Winenv/lib/site-packages/pandas/core/reshape/reshape.py?line=488'>489</a>\u001b[0m \u001b[39mif\u001b[39;00m is_1d_only_ea_dtype(obj\u001b[39m.\u001b[39mdtype):\n\u001b[0;32m    <a href='file:///c%3A/Users/huytr/OneDrive/Programming/Python/Elder_Ring/Test_P/Winenv/lib/site-packages/pandas/core/reshape/reshape.py?line=489'>490</a>\u001b[0m     \u001b[39mreturn\u001b[39;00m _unstack_extension_series(obj, level, fill_value)\n\u001b[1;32m--> <a href='file:///c%3A/Users/huytr/OneDrive/Programming/Python/Elder_Ring/Test_P/Winenv/lib/site-packages/pandas/core/reshape/reshape.py?line=490'>491</a>\u001b[0m unstacker \u001b[39m=\u001b[39m _Unstacker(\n\u001b[0;32m    <a href='file:///c%3A/Users/huytr/OneDrive/Programming/Python/Elder_Ring/Test_P/Winenv/lib/site-packages/pandas/core/reshape/reshape.py?line=491'>492</a>\u001b[0m     obj\u001b[39m.\u001b[39;49mindex, level\u001b[39m=\u001b[39;49mlevel, constructor\u001b[39m=\u001b[39;49mobj\u001b[39m.\u001b[39;49m_constructor_expanddim\n\u001b[0;32m    <a href='file:///c%3A/Users/huytr/OneDrive/Programming/Python/Elder_Ring/Test_P/Winenv/lib/site-packages/pandas/core/reshape/reshape.py?line=492'>493</a>\u001b[0m )\n\u001b[0;32m    <a href='file:///c%3A/Users/huytr/OneDrive/Programming/Python/Elder_Ring/Test_P/Winenv/lib/site-packages/pandas/core/reshape/reshape.py?line=493'>494</a>\u001b[0m \u001b[39mreturn\u001b[39;00m unstacker\u001b[39m.\u001b[39mget_result(\n\u001b[0;32m    <a href='file:///c%3A/Users/huytr/OneDrive/Programming/Python/Elder_Ring/Test_P/Winenv/lib/site-packages/pandas/core/reshape/reshape.py?line=494'>495</a>\u001b[0m     obj\u001b[39m.\u001b[39m_values, value_columns\u001b[39m=\u001b[39m\u001b[39mNone\u001b[39;00m, fill_value\u001b[39m=\u001b[39mfill_value\n\u001b[0;32m    <a href='file:///c%3A/Users/huytr/OneDrive/Programming/Python/Elder_Ring/Test_P/Winenv/lib/site-packages/pandas/core/reshape/reshape.py?line=495'>496</a>\u001b[0m )\n",
      "File \u001b[1;32mc:\\Users\\huytr\\OneDrive\\Programming\\Python\\Elder_Ring\\Test_P\\Winenv\\lib\\site-packages\\pandas\\core\\reshape\\reshape.py:140\u001b[0m, in \u001b[0;36m_Unstacker.__init__\u001b[1;34m(self, index, level, constructor)\u001b[0m\n\u001b[0;32m    <a href='file:///c%3A/Users/huytr/OneDrive/Programming/Python/Elder_Ring/Test_P/Winenv/lib/site-packages/pandas/core/reshape/reshape.py?line=132'>133</a>\u001b[0m \u001b[39mif\u001b[39;00m num_cells \u001b[39m>\u001b[39m np\u001b[39m.\u001b[39miinfo(np\u001b[39m.\u001b[39mint32)\u001b[39m.\u001b[39mmax:\n\u001b[0;32m    <a href='file:///c%3A/Users/huytr/OneDrive/Programming/Python/Elder_Ring/Test_P/Winenv/lib/site-packages/pandas/core/reshape/reshape.py?line=133'>134</a>\u001b[0m     warnings\u001b[39m.\u001b[39mwarn(\n\u001b[0;32m    <a href='file:///c%3A/Users/huytr/OneDrive/Programming/Python/Elder_Ring/Test_P/Winenv/lib/site-packages/pandas/core/reshape/reshape.py?line=134'>135</a>\u001b[0m         \u001b[39mf\u001b[39m\u001b[39m\"\u001b[39m\u001b[39mThe following operation may generate \u001b[39m\u001b[39m{\u001b[39;00mnum_cells\u001b[39m}\u001b[39;00m\u001b[39m cells \u001b[39m\u001b[39m\"\u001b[39m\n\u001b[0;32m    <a href='file:///c%3A/Users/huytr/OneDrive/Programming/Python/Elder_Ring/Test_P/Winenv/lib/site-packages/pandas/core/reshape/reshape.py?line=135'>136</a>\u001b[0m         \u001b[39mf\u001b[39m\u001b[39m\"\u001b[39m\u001b[39min the resulting pandas object.\u001b[39m\u001b[39m\"\u001b[39m,\n\u001b[0;32m    <a href='file:///c%3A/Users/huytr/OneDrive/Programming/Python/Elder_Ring/Test_P/Winenv/lib/site-packages/pandas/core/reshape/reshape.py?line=136'>137</a>\u001b[0m         PerformanceWarning,\n\u001b[0;32m    <a href='file:///c%3A/Users/huytr/OneDrive/Programming/Python/Elder_Ring/Test_P/Winenv/lib/site-packages/pandas/core/reshape/reshape.py?line=137'>138</a>\u001b[0m     )\n\u001b[1;32m--> <a href='file:///c%3A/Users/huytr/OneDrive/Programming/Python/Elder_Ring/Test_P/Winenv/lib/site-packages/pandas/core/reshape/reshape.py?line=139'>140</a>\u001b[0m \u001b[39mself\u001b[39;49m\u001b[39m.\u001b[39;49m_make_selectors()\n",
      "File \u001b[1;32mc:\\Users\\huytr\\OneDrive\\Programming\\Python\\Elder_Ring\\Test_P\\Winenv\\lib\\site-packages\\pandas\\core\\reshape\\reshape.py:192\u001b[0m, in \u001b[0;36m_Unstacker._make_selectors\u001b[1;34m(self)\u001b[0m\n\u001b[0;32m    <a href='file:///c%3A/Users/huytr/OneDrive/Programming/Python/Elder_Ring/Test_P/Winenv/lib/site-packages/pandas/core/reshape/reshape.py?line=188'>189</a>\u001b[0m mask\u001b[39m.\u001b[39mput(selector, \u001b[39mTrue\u001b[39;00m)\n\u001b[0;32m    <a href='file:///c%3A/Users/huytr/OneDrive/Programming/Python/Elder_Ring/Test_P/Winenv/lib/site-packages/pandas/core/reshape/reshape.py?line=190'>191</a>\u001b[0m \u001b[39mif\u001b[39;00m mask\u001b[39m.\u001b[39msum() \u001b[39m<\u001b[39m \u001b[39mlen\u001b[39m(\u001b[39mself\u001b[39m\u001b[39m.\u001b[39mindex):\n\u001b[1;32m--> <a href='file:///c%3A/Users/huytr/OneDrive/Programming/Python/Elder_Ring/Test_P/Winenv/lib/site-packages/pandas/core/reshape/reshape.py?line=191'>192</a>\u001b[0m     \u001b[39mraise\u001b[39;00m \u001b[39mValueError\u001b[39;00m(\u001b[39m\"\u001b[39m\u001b[39mIndex contains duplicate entries, cannot reshape\u001b[39m\u001b[39m\"\u001b[39m)\n\u001b[0;32m    <a href='file:///c%3A/Users/huytr/OneDrive/Programming/Python/Elder_Ring/Test_P/Winenv/lib/site-packages/pandas/core/reshape/reshape.py?line=193'>194</a>\u001b[0m \u001b[39mself\u001b[39m\u001b[39m.\u001b[39mgroup_index \u001b[39m=\u001b[39m comp_index\n\u001b[0;32m    <a href='file:///c%3A/Users/huytr/OneDrive/Programming/Python/Elder_Ring/Test_P/Winenv/lib/site-packages/pandas/core/reshape/reshape.py?line=194'>195</a>\u001b[0m \u001b[39mself\u001b[39m\u001b[39m.\u001b[39mmask \u001b[39m=\u001b[39m mask\n",
      "\u001b[1;31mValueError\u001b[0m: Index contains duplicate entries, cannot reshape"
     ]
    }
   ],
   "source": [
    "dp = da.set_index('Type').stack()\n",
    "display(dp)\n",
    "do = dp.unstack()\n"
   ]
  },
  {
   "cell_type": "code",
   "execution_count": 68,
   "metadata": {},
   "outputs": [
    {
     "data": {
      "text/html": [
       "<div>\n",
       "<style scoped>\n",
       "    .dataframe tbody tr th:only-of-type {\n",
       "        vertical-align: middle;\n",
       "    }\n",
       "\n",
       "    .dataframe tbody tr th {\n",
       "        vertical-align: top;\n",
       "    }\n",
       "\n",
       "    .dataframe thead th {\n",
       "        text-align: right;\n",
       "    }\n",
       "</style>\n",
       "<table border=\"1\" class=\"dataframe\">\n",
       "  <thead>\n",
       "    <tr style=\"text-align: right;\">\n",
       "      <th></th>\n",
       "      <th>col1</th>\n",
       "      <th>col2</th>\n",
       "      <th>col3</th>\n",
       "      <th>col4</th>\n",
       "    </tr>\n",
       "  </thead>\n",
       "  <tbody>\n",
       "    <tr>\n",
       "      <th>0</th>\n",
       "      <td>A</td>\n",
       "      <td>2</td>\n",
       "      <td>0</td>\n",
       "      <td>a</td>\n",
       "    </tr>\n",
       "    <tr>\n",
       "      <th>1</th>\n",
       "      <td>A</td>\n",
       "      <td>1</td>\n",
       "      <td>1</td>\n",
       "      <td>B</td>\n",
       "    </tr>\n",
       "    <tr>\n",
       "      <th>2</th>\n",
       "      <td>B</td>\n",
       "      <td>9</td>\n",
       "      <td>9</td>\n",
       "      <td>c</td>\n",
       "    </tr>\n",
       "    <tr>\n",
       "      <th>3</th>\n",
       "      <td>NaN</td>\n",
       "      <td>8</td>\n",
       "      <td>4</td>\n",
       "      <td>D</td>\n",
       "    </tr>\n",
       "    <tr>\n",
       "      <th>4</th>\n",
       "      <td>D</td>\n",
       "      <td>7</td>\n",
       "      <td>2</td>\n",
       "      <td>e</td>\n",
       "    </tr>\n",
       "    <tr>\n",
       "      <th>5</th>\n",
       "      <td>C</td>\n",
       "      <td>4</td>\n",
       "      <td>3</td>\n",
       "      <td>F</td>\n",
       "    </tr>\n",
       "  </tbody>\n",
       "</table>\n",
       "</div>"
      ],
      "text/plain": [
       "  col1  col2  col3 col4\n",
       "0    A     2     0    a\n",
       "1    A     1     1    B\n",
       "2    B     9     9    c\n",
       "3  NaN     8     4    D\n",
       "4    D     7     2    e\n",
       "5    C     4     3    F"
      ]
     },
     "metadata": {},
     "output_type": "display_data"
    },
    {
     "data": {
      "text/plain": [
       "col1      \n",
       "A     col2    2\n",
       "      col3    0\n",
       "      col4    a\n",
       "      col2    1\n",
       "      col3    1\n",
       "      col4    B\n",
       "B     col2    9\n",
       "      col3    9\n",
       "      col4    c\n",
       "NaN   col2    8\n",
       "      col3    4\n",
       "      col4    D\n",
       "D     col2    7\n",
       "      col3    2\n",
       "      col4    e\n",
       "C     col2    4\n",
       "      col3    3\n",
       "      col4    F\n",
       "dtype: object"
      ]
     },
     "metadata": {},
     "output_type": "display_data"
    },
    {
     "ename": "KeyError",
     "evalue": "'Requested level (col1) does not match index name (None)'",
     "output_type": "error",
     "traceback": [
      "\u001b[1;31m---------------------------------------------------------------------------\u001b[0m",
      "\u001b[1;31mKeyError\u001b[0m                                  Traceback (most recent call last)",
      "\u001b[1;32mc:\\Users\\huytr\\OneDrive\\Programming\\Python\\Elder_Ring\\Test_P\\Elden_Wea_EDA copy 2.ipynb Cell 12'\u001b[0m in \u001b[0;36m<cell line: 10>\u001b[1;34m()\u001b[0m\n\u001b[0;32m      <a href='vscode-notebook-cell:/c%3A/Users/huytr/OneDrive/Programming/Python/Elder_Ring/Test_P/Elden_Wea_EDA%20copy%202.ipynb#ch0000012?line=7'>8</a>\u001b[0m da \u001b[39m=\u001b[39m df\u001b[39m.\u001b[39mset_index(\u001b[39m'\u001b[39m\u001b[39mcol1\u001b[39m\u001b[39m'\u001b[39m)\u001b[39m.\u001b[39mstack()\n\u001b[0;32m      <a href='vscode-notebook-cell:/c%3A/Users/huytr/OneDrive/Programming/Python/Elder_Ring/Test_P/Elden_Wea_EDA%20copy%202.ipynb#ch0000012?line=8'>9</a>\u001b[0m display(da)\n\u001b[1;32m---> <a href='vscode-notebook-cell:/c%3A/Users/huytr/OneDrive/Programming/Python/Elder_Ring/Test_P/Elden_Wea_EDA%20copy%202.ipynb#ch0000012?line=9'>10</a>\u001b[0m da\u001b[39m.\u001b[39;49mreset_index()\u001b[39m.\u001b[39;49munstack([\u001b[39m'\u001b[39;49m\u001b[39mcol1\u001b[39;49m\u001b[39m'\u001b[39;49m,\u001b[39m'\u001b[39;49m\u001b[39mlevel_1\u001b[39;49m\u001b[39m'\u001b[39;49m])\n",
      "File \u001b[1;32mc:\\Users\\huytr\\OneDrive\\Programming\\Python\\Elder_Ring\\Test_P\\Winenv\\lib\\site-packages\\pandas\\core\\frame.py:8419\u001b[0m, in \u001b[0;36mDataFrame.unstack\u001b[1;34m(self, level, fill_value)\u001b[0m\n\u001b[0;32m   <a href='file:///c%3A/Users/huytr/OneDrive/Programming/Python/Elder_Ring/Test_P/Winenv/lib/site-packages/pandas/core/frame.py?line=8356'>8357</a>\u001b[0m \u001b[39m\"\"\"\u001b[39;00m\n\u001b[0;32m   <a href='file:///c%3A/Users/huytr/OneDrive/Programming/Python/Elder_Ring/Test_P/Winenv/lib/site-packages/pandas/core/frame.py?line=8357'>8358</a>\u001b[0m \u001b[39mPivot a level of the (necessarily hierarchical) index labels.\u001b[39;00m\n\u001b[0;32m   <a href='file:///c%3A/Users/huytr/OneDrive/Programming/Python/Elder_Ring/Test_P/Winenv/lib/site-packages/pandas/core/frame.py?line=8358'>8359</a>\u001b[0m \n\u001b[1;32m   (...)\u001b[0m\n\u001b[0;32m   <a href='file:///c%3A/Users/huytr/OneDrive/Programming/Python/Elder_Ring/Test_P/Winenv/lib/site-packages/pandas/core/frame.py?line=8414'>8415</a>\u001b[0m \u001b[39mdtype: float64\u001b[39;00m\n\u001b[0;32m   <a href='file:///c%3A/Users/huytr/OneDrive/Programming/Python/Elder_Ring/Test_P/Winenv/lib/site-packages/pandas/core/frame.py?line=8415'>8416</a>\u001b[0m \u001b[39m\"\"\"\u001b[39;00m\n\u001b[0;32m   <a href='file:///c%3A/Users/huytr/OneDrive/Programming/Python/Elder_Ring/Test_P/Winenv/lib/site-packages/pandas/core/frame.py?line=8416'>8417</a>\u001b[0m \u001b[39mfrom\u001b[39;00m \u001b[39mpandas\u001b[39;00m\u001b[39m.\u001b[39;00m\u001b[39mcore\u001b[39;00m\u001b[39m.\u001b[39;00m\u001b[39mreshape\u001b[39;00m\u001b[39m.\u001b[39;00m\u001b[39mreshape\u001b[39;00m \u001b[39mimport\u001b[39;00m unstack\n\u001b[1;32m-> <a href='file:///c%3A/Users/huytr/OneDrive/Programming/Python/Elder_Ring/Test_P/Winenv/lib/site-packages/pandas/core/frame.py?line=8418'>8419</a>\u001b[0m result \u001b[39m=\u001b[39m unstack(\u001b[39mself\u001b[39;49m, level, fill_value)\n\u001b[0;32m   <a href='file:///c%3A/Users/huytr/OneDrive/Programming/Python/Elder_Ring/Test_P/Winenv/lib/site-packages/pandas/core/frame.py?line=8420'>8421</a>\u001b[0m \u001b[39mreturn\u001b[39;00m result\u001b[39m.\u001b[39m__finalize__(\u001b[39mself\u001b[39m, method\u001b[39m=\u001b[39m\u001b[39m\"\u001b[39m\u001b[39munstack\u001b[39m\u001b[39m\"\u001b[39m)\n",
      "File \u001b[1;32mc:\\Users\\huytr\\OneDrive\\Programming\\Python\\Elder_Ring\\Test_P\\Winenv\\lib\\site-packages\\pandas\\core\\reshape\\reshape.py:468\u001b[0m, in \u001b[0;36munstack\u001b[1;34m(obj, level, fill_value)\u001b[0m\n\u001b[0;32m    <a href='file:///c%3A/Users/huytr/OneDrive/Programming/Python/Elder_Ring/Test_P/Winenv/lib/site-packages/pandas/core/reshape/reshape.py?line=463'>464</a>\u001b[0m \u001b[39mif\u001b[39;00m \u001b[39misinstance\u001b[39m(level, (\u001b[39mtuple\u001b[39m, \u001b[39mlist\u001b[39m)):\n\u001b[0;32m    <a href='file:///c%3A/Users/huytr/OneDrive/Programming/Python/Elder_Ring/Test_P/Winenv/lib/site-packages/pandas/core/reshape/reshape.py?line=464'>465</a>\u001b[0m     \u001b[39mif\u001b[39;00m \u001b[39mlen\u001b[39m(level) \u001b[39m!=\u001b[39m \u001b[39m1\u001b[39m:\n\u001b[0;32m    <a href='file:///c%3A/Users/huytr/OneDrive/Programming/Python/Elder_Ring/Test_P/Winenv/lib/site-packages/pandas/core/reshape/reshape.py?line=465'>466</a>\u001b[0m         \u001b[39m# _unstack_multiple only handles MultiIndexes,\u001b[39;00m\n\u001b[0;32m    <a href='file:///c%3A/Users/huytr/OneDrive/Programming/Python/Elder_Ring/Test_P/Winenv/lib/site-packages/pandas/core/reshape/reshape.py?line=466'>467</a>\u001b[0m         \u001b[39m# and isn't needed for a single level\u001b[39;00m\n\u001b[1;32m--> <a href='file:///c%3A/Users/huytr/OneDrive/Programming/Python/Elder_Ring/Test_P/Winenv/lib/site-packages/pandas/core/reshape/reshape.py?line=467'>468</a>\u001b[0m         \u001b[39mreturn\u001b[39;00m _unstack_multiple(obj, level, fill_value\u001b[39m=\u001b[39;49mfill_value)\n\u001b[0;32m    <a href='file:///c%3A/Users/huytr/OneDrive/Programming/Python/Elder_Ring/Test_P/Winenv/lib/site-packages/pandas/core/reshape/reshape.py?line=468'>469</a>\u001b[0m     \u001b[39melse\u001b[39;00m:\n\u001b[0;32m    <a href='file:///c%3A/Users/huytr/OneDrive/Programming/Python/Elder_Ring/Test_P/Winenv/lib/site-packages/pandas/core/reshape/reshape.py?line=469'>470</a>\u001b[0m         level \u001b[39m=\u001b[39m level[\u001b[39m0\u001b[39m]\n",
      "File \u001b[1;32mc:\\Users\\huytr\\OneDrive\\Programming\\Python\\Elder_Ring\\Test_P\\Winenv\\lib\\site-packages\\pandas\\core\\reshape\\reshape.py:387\u001b[0m, in \u001b[0;36m_unstack_multiple\u001b[1;34m(data, clocs, fill_value)\u001b[0m\n\u001b[0;32m    <a href='file:///c%3A/Users/huytr/OneDrive/Programming/Python/Elder_Ring/Test_P/Winenv/lib/site-packages/pandas/core/reshape/reshape.py?line=384'>385</a>\u001b[0m \u001b[39mif\u001b[39;00m clocs \u001b[39min\u001b[39;00m index\u001b[39m.\u001b[39mnames:\n\u001b[0;32m    <a href='file:///c%3A/Users/huytr/OneDrive/Programming/Python/Elder_Ring/Test_P/Winenv/lib/site-packages/pandas/core/reshape/reshape.py?line=385'>386</a>\u001b[0m     clocs \u001b[39m=\u001b[39m [clocs]\n\u001b[1;32m--> <a href='file:///c%3A/Users/huytr/OneDrive/Programming/Python/Elder_Ring/Test_P/Winenv/lib/site-packages/pandas/core/reshape/reshape.py?line=386'>387</a>\u001b[0m clocs \u001b[39m=\u001b[39m [index\u001b[39m.\u001b[39m_get_level_number(i) \u001b[39mfor\u001b[39;00m i \u001b[39min\u001b[39;00m clocs]\n\u001b[0;32m    <a href='file:///c%3A/Users/huytr/OneDrive/Programming/Python/Elder_Ring/Test_P/Winenv/lib/site-packages/pandas/core/reshape/reshape.py?line=388'>389</a>\u001b[0m rlocs \u001b[39m=\u001b[39m [i \u001b[39mfor\u001b[39;00m i \u001b[39min\u001b[39;00m \u001b[39mrange\u001b[39m(index\u001b[39m.\u001b[39mnlevels) \u001b[39mif\u001b[39;00m i \u001b[39mnot\u001b[39;00m \u001b[39min\u001b[39;00m clocs]\n\u001b[0;32m    <a href='file:///c%3A/Users/huytr/OneDrive/Programming/Python/Elder_Ring/Test_P/Winenv/lib/site-packages/pandas/core/reshape/reshape.py?line=390'>391</a>\u001b[0m clevels \u001b[39m=\u001b[39m [index\u001b[39m.\u001b[39mlevels[i] \u001b[39mfor\u001b[39;00m i \u001b[39min\u001b[39;00m clocs]\n",
      "File \u001b[1;32mc:\\Users\\huytr\\OneDrive\\Programming\\Python\\Elder_Ring\\Test_P\\Winenv\\lib\\site-packages\\pandas\\core\\reshape\\reshape.py:387\u001b[0m, in \u001b[0;36m<listcomp>\u001b[1;34m(.0)\u001b[0m\n\u001b[0;32m    <a href='file:///c%3A/Users/huytr/OneDrive/Programming/Python/Elder_Ring/Test_P/Winenv/lib/site-packages/pandas/core/reshape/reshape.py?line=384'>385</a>\u001b[0m \u001b[39mif\u001b[39;00m clocs \u001b[39min\u001b[39;00m index\u001b[39m.\u001b[39mnames:\n\u001b[0;32m    <a href='file:///c%3A/Users/huytr/OneDrive/Programming/Python/Elder_Ring/Test_P/Winenv/lib/site-packages/pandas/core/reshape/reshape.py?line=385'>386</a>\u001b[0m     clocs \u001b[39m=\u001b[39m [clocs]\n\u001b[1;32m--> <a href='file:///c%3A/Users/huytr/OneDrive/Programming/Python/Elder_Ring/Test_P/Winenv/lib/site-packages/pandas/core/reshape/reshape.py?line=386'>387</a>\u001b[0m clocs \u001b[39m=\u001b[39m [index\u001b[39m.\u001b[39;49m_get_level_number(i) \u001b[39mfor\u001b[39;00m i \u001b[39min\u001b[39;00m clocs]\n\u001b[0;32m    <a href='file:///c%3A/Users/huytr/OneDrive/Programming/Python/Elder_Ring/Test_P/Winenv/lib/site-packages/pandas/core/reshape/reshape.py?line=388'>389</a>\u001b[0m rlocs \u001b[39m=\u001b[39m [i \u001b[39mfor\u001b[39;00m i \u001b[39min\u001b[39;00m \u001b[39mrange\u001b[39m(index\u001b[39m.\u001b[39mnlevels) \u001b[39mif\u001b[39;00m i \u001b[39mnot\u001b[39;00m \u001b[39min\u001b[39;00m clocs]\n\u001b[0;32m    <a href='file:///c%3A/Users/huytr/OneDrive/Programming/Python/Elder_Ring/Test_P/Winenv/lib/site-packages/pandas/core/reshape/reshape.py?line=390'>391</a>\u001b[0m clevels \u001b[39m=\u001b[39m [index\u001b[39m.\u001b[39mlevels[i] \u001b[39mfor\u001b[39;00m i \u001b[39min\u001b[39;00m clocs]\n",
      "File \u001b[1;32mc:\\Users\\huytr\\OneDrive\\Programming\\Python\\Elder_Ring\\Test_P\\Winenv\\lib\\site-packages\\pandas\\core\\indexes\\base.py:1936\u001b[0m, in \u001b[0;36mIndex._get_level_number\u001b[1;34m(self, level)\u001b[0m\n\u001b[0;32m   <a href='file:///c%3A/Users/huytr/OneDrive/Programming/Python/Elder_Ring/Test_P/Winenv/lib/site-packages/pandas/core/indexes/base.py?line=1934'>1935</a>\u001b[0m \u001b[39mdef\u001b[39;00m \u001b[39m_get_level_number\u001b[39m(\u001b[39mself\u001b[39m, level) \u001b[39m-\u001b[39m\u001b[39m>\u001b[39m \u001b[39mint\u001b[39m:\n\u001b[1;32m-> <a href='file:///c%3A/Users/huytr/OneDrive/Programming/Python/Elder_Ring/Test_P/Winenv/lib/site-packages/pandas/core/indexes/base.py?line=1935'>1936</a>\u001b[0m     \u001b[39mself\u001b[39;49m\u001b[39m.\u001b[39;49m_validate_index_level(level)\n\u001b[0;32m   <a href='file:///c%3A/Users/huytr/OneDrive/Programming/Python/Elder_Ring/Test_P/Winenv/lib/site-packages/pandas/core/indexes/base.py?line=1936'>1937</a>\u001b[0m     \u001b[39mreturn\u001b[39;00m \u001b[39m0\u001b[39m\n",
      "File \u001b[1;32mc:\\Users\\huytr\\OneDrive\\Programming\\Python\\Elder_Ring\\Test_P\\Winenv\\lib\\site-packages\\pandas\\core\\indexes\\base.py:1931\u001b[0m, in \u001b[0;36mIndex._validate_index_level\u001b[1;34m(self, level)\u001b[0m\n\u001b[0;32m   <a href='file:///c%3A/Users/huytr/OneDrive/Programming/Python/Elder_Ring/Test_P/Winenv/lib/site-packages/pandas/core/indexes/base.py?line=1926'>1927</a>\u001b[0m         \u001b[39mraise\u001b[39;00m \u001b[39mIndexError\u001b[39;00m(\n\u001b[0;32m   <a href='file:///c%3A/Users/huytr/OneDrive/Programming/Python/Elder_Ring/Test_P/Winenv/lib/site-packages/pandas/core/indexes/base.py?line=1927'>1928</a>\u001b[0m             \u001b[39mf\u001b[39m\u001b[39m\"\u001b[39m\u001b[39mToo many levels: Index has only 1 level, not \u001b[39m\u001b[39m{\u001b[39;00mlevel \u001b[39m+\u001b[39m \u001b[39m1\u001b[39m\u001b[39m}\u001b[39;00m\u001b[39m\"\u001b[39m\n\u001b[0;32m   <a href='file:///c%3A/Users/huytr/OneDrive/Programming/Python/Elder_Ring/Test_P/Winenv/lib/site-packages/pandas/core/indexes/base.py?line=1928'>1929</a>\u001b[0m         )\n\u001b[0;32m   <a href='file:///c%3A/Users/huytr/OneDrive/Programming/Python/Elder_Ring/Test_P/Winenv/lib/site-packages/pandas/core/indexes/base.py?line=1929'>1930</a>\u001b[0m \u001b[39melif\u001b[39;00m level \u001b[39m!=\u001b[39m \u001b[39mself\u001b[39m\u001b[39m.\u001b[39mname:\n\u001b[1;32m-> <a href='file:///c%3A/Users/huytr/OneDrive/Programming/Python/Elder_Ring/Test_P/Winenv/lib/site-packages/pandas/core/indexes/base.py?line=1930'>1931</a>\u001b[0m     \u001b[39mraise\u001b[39;00m \u001b[39mKeyError\u001b[39;00m(\n\u001b[0;32m   <a href='file:///c%3A/Users/huytr/OneDrive/Programming/Python/Elder_Ring/Test_P/Winenv/lib/site-packages/pandas/core/indexes/base.py?line=1931'>1932</a>\u001b[0m         \u001b[39mf\u001b[39m\u001b[39m\"\u001b[39m\u001b[39mRequested level (\u001b[39m\u001b[39m{\u001b[39;00mlevel\u001b[39m}\u001b[39;00m\u001b[39m) does not match index name (\u001b[39m\u001b[39m{\u001b[39;00m\u001b[39mself\u001b[39m\u001b[39m.\u001b[39mname\u001b[39m}\u001b[39;00m\u001b[39m)\u001b[39m\u001b[39m\"\u001b[39m\n\u001b[0;32m   <a href='file:///c%3A/Users/huytr/OneDrive/Programming/Python/Elder_Ring/Test_P/Winenv/lib/site-packages/pandas/core/indexes/base.py?line=1932'>1933</a>\u001b[0m     )\n",
      "\u001b[1;31mKeyError\u001b[0m: 'Requested level (col1) does not match index name (None)'"
     ]
    }
   ],
   "source": [
    "df = pd.DataFrame({\n",
    "    'col1': ['A', 'A', 'B', np.nan, 'D', 'C'],\n",
    "    'col2': [2, 1, 9, 8, 7, 4],\n",
    "    'col3': [0, 1, 9, 4, 2, 3],\n",
    "    'col4': ['a', 'B', 'c', 'D', 'e', 'F']\n",
    "})\n",
    "display(df)\n",
    "da = df.set_index('col1').stack()\n",
    "display(da)\n",
    "da.reset_index().unstack(['col1','level_1'])"
   ]
  }
 ],
 "metadata": {
  "interpreter": {
   "hash": "e1e7d6b5f1bba033f08198fdb92eb12ebd9bb30f633161599bd2ccce4ef065c3"
  },
  "kernelspec": {
   "display_name": "Python 3.9.12 ('Winenv': venv)",
   "language": "python",
   "name": "python3"
  },
  "language_info": {
   "codemirror_mode": {
    "name": "ipython",
    "version": 3
   },
   "file_extension": ".py",
   "mimetype": "text/x-python",
   "name": "python",
   "nbconvert_exporter": "python",
   "pygments_lexer": "ipython3",
   "version": "3.9.12"
  },
  "orig_nbformat": 4
 },
 "nbformat": 4,
 "nbformat_minor": 2
}
